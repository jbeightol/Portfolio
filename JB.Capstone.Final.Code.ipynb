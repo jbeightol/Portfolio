{
 "cells": [
  {
   "cell_type": "code",
   "execution_count": 1,
   "metadata": {
    "collapsed": true
   },
   "outputs": [],
   "source": [
    "import pandas as pd"
   ]
  },
  {
   "cell_type": "code",
   "execution_count": 90,
   "metadata": {
    "collapsed": true
   },
   "outputs": [],
   "source": [
    "import twitter, re, datetime, pandas as pd\n",
    "\n",
    "class twitterminer():\n",
    "\n",
    "    request_limit   =   20    \n",
    "    api             =   False\n",
    "    data            =   []\n",
    "    \n",
    "    twitter_keys = {\n",
    "        'consumer_key':        'bejMZ1a23iilm782o1ZtlsY80',\n",
    "        'consumer_secret':     '4whnR4YlZFooqGgiUOxf0BY454Bd9nEbDcfHwRQ6LMxnnS9SdA',\n",
    "        'access_token_key':    '3314826759-P8IrjCXKEd7w2mKMQ1O3wyDHv3yJXZc2tks0UXl',\n",
    "        'access_token_secret': 'zIfE0Wesx9ptYlrjmVgkLVG1WrAS5El7I79meC5rsCGLG'\n",
    "    }\n",
    "    \n",
    "    def __init__(self,  request_limit = 20):\n",
    "        \n",
    "        self.request_limit = request_limit\n",
    "        \n",
    "        # This sets the twitter API object for use internall within the class\n",
    "        self.set_api()\n",
    "        \n",
    "    def set_api(self):\n",
    "        \n",
    "        self.api = twitter.Api(\n",
    "            consumer_key         =   self.twitter_keys['consumer_key'],\n",
    "            consumer_secret      =   self.twitter_keys['consumer_secret'],\n",
    "            access_token_key     =   self.twitter_keys['access_token_key'],\n",
    "            access_token_secret  =   self.twitter_keys['access_token_secret']\n",
    "        )\n",
    "\n",
    "    def mine_user_tweets(self, user=\"mashable\", mine_retweets=False, max_id=None):\n",
    "\n",
    "        statuses   =   self.api.GetUserTimeline(screen_name=user, count=self.request_limit, max_id=max_id)\n",
    "        data       =   []\n",
    "        \n",
    "        for item in statuses:\n",
    "\n",
    "            mined = {\n",
    "                'tweet_id': item.id,\n",
    "                'handle': item.user.name,\n",
    "                'retweet_count': item.retweet_count,\n",
    "                'text': item.text,\n",
    "                'mined_at': datetime.datetime.now(),\n",
    "                'created_at': item.created_at,\n",
    "                'geo' : item.geo,\n",
    "                'place' : item.place,\n",
    "            }\n",
    "            \n",
    "            data.append(mined)\n",
    "            \n",
    "        return data"
   ]
  },
  {
   "cell_type": "code",
   "execution_count": 583,
   "metadata": {},
   "outputs": [],
   "source": [
    "w_tweets = miner.mine_user_tweets(user='washingtonpost', max_id=newmaxid)"
   ]
  },
  {
   "cell_type": "code",
   "execution_count": 175,
   "metadata": {},
   "outputs": [],
   "source": [
    "miner = twitterminer(request_limit=200)\n",
    "w_tweets = miner.mine_user_tweets(user='washingtonpost', max_id=newmaxid)"
   ]
  },
  {
   "cell_type": "code",
   "execution_count": 584,
   "metadata": {},
   "outputs": [
    {
     "data": {
      "text/html": [
       "<div>\n",
       "<table border=\"1\" class=\"dataframe\">\n",
       "  <thead>\n",
       "    <tr style=\"text-align: right;\">\n",
       "      <th></th>\n",
       "    </tr>\n",
       "  </thead>\n",
       "  <tbody>\n",
       "  </tbody>\n",
       "</table>\n",
       "</div>"
      ],
      "text/plain": [
       "Empty DataFrame\n",
       "Columns: []\n",
       "Index: []"
      ]
     },
     "execution_count": 584,
     "metadata": {},
     "output_type": "execute_result"
    }
   ],
   "source": [
    "w_dfx = pd.DataFrame(w_tweets)\n",
    "w_dfx"
   ]
  },
  {
   "cell_type": "code",
   "execution_count": 590,
   "metadata": {},
   "outputs": [
    {
     "data": {
      "text/plain": [
       "(2546, 16)"
      ]
     },
     "execution_count": 590,
     "metadata": {},
     "output_type": "execute_result"
    }
   ],
   "source": [
    "wapo2.shape"
   ]
  },
  {
   "cell_type": "code",
   "execution_count": 589,
   "metadata": {},
   "outputs": [
    {
     "data": {
      "text/plain": [
       "(985, 24)"
      ]
     },
     "execution_count": 589,
     "metadata": {},
     "output_type": "execute_result"
    }
   ],
   "source": [
    "wapo.shape"
   ]
  },
  {
   "cell_type": "code",
   "execution_count": null,
   "metadata": {},
   "outputs": [],
   "source": []
  },
  {
   "cell_type": "code",
   "execution_count": 580,
   "metadata": {},
   "outputs": [
    {
     "ename": "TwitterError",
     "evalue": "{u'message': u'\"max_id\" must be type int'}",
     "output_type": "error",
     "traceback": [
      "\u001b[0;31m---------------------------------------------------------------------------\u001b[0m",
      "\u001b[0;31mTwitterError\u001b[0m                              Traceback (most recent call last)",
      "\u001b[0;32m<ipython-input-580-4cdee7f3bfa3>\u001b[0m in \u001b[0;36m<module>\u001b[0;34m()\u001b[0m\n\u001b[1;32m      1\u001b[0m \u001b[0;34m\u001b[0m\u001b[0m\n\u001b[1;32m      2\u001b[0m \u001b[0;32mfor\u001b[0m \u001b[0mi\u001b[0m \u001b[0;32min\u001b[0m \u001b[0mrange\u001b[0m\u001b[0;34m(\u001b[0m\u001b[0;36m0\u001b[0m\u001b[0;34m,\u001b[0m\u001b[0;36m10\u001b[0m\u001b[0;34m)\u001b[0m\u001b[0;34m:\u001b[0m\u001b[0;34m\u001b[0m\u001b[0m\n\u001b[0;32m----> 3\u001b[0;31m     \u001b[0mw_tweets\u001b[0m \u001b[0;34m=\u001b[0m \u001b[0mminer\u001b[0m\u001b[0;34m.\u001b[0m\u001b[0mmine_user_tweets\u001b[0m\u001b[0;34m(\u001b[0m\u001b[0muser\u001b[0m\u001b[0;34m=\u001b[0m\u001b[0;34m'washingtonpost'\u001b[0m\u001b[0;34m,\u001b[0m \u001b[0mmax_id\u001b[0m\u001b[0;34m=\u001b[0m\u001b[0mnewmaxid\u001b[0m\u001b[0;34m)\u001b[0m\u001b[0;34m\u001b[0m\u001b[0m\n\u001b[0m\u001b[1;32m      4\u001b[0m     \u001b[0mw_dfx\u001b[0m \u001b[0;34m=\u001b[0m \u001b[0mpd\u001b[0m\u001b[0;34m.\u001b[0m\u001b[0mDataFrame\u001b[0m\u001b[0;34m(\u001b[0m\u001b[0mw_tweets\u001b[0m\u001b[0;34m)\u001b[0m\u001b[0;34m\u001b[0m\u001b[0m\n\u001b[1;32m      5\u001b[0m     \u001b[0mwapo3\u001b[0m \u001b[0;34m=\u001b[0m \u001b[0mpd\u001b[0m\u001b[0;34m.\u001b[0m\u001b[0mconcat\u001b[0m\u001b[0;34m(\u001b[0m\u001b[0;34m[\u001b[0m\u001b[0mwapo3\u001b[0m\u001b[0;34m,\u001b[0m \u001b[0mw_dfx\u001b[0m\u001b[0;34m]\u001b[0m\u001b[0;34m)\u001b[0m\u001b[0;34m\u001b[0m\u001b[0m\n",
      "\u001b[0;32m<ipython-input-90-e09c3e451ecc>\u001b[0m in \u001b[0;36mmine_user_tweets\u001b[0;34m(self, user, mine_retweets, max_id)\u001b[0m\n\u001b[1;32m     32\u001b[0m     \u001b[0;32mdef\u001b[0m \u001b[0mmine_user_tweets\u001b[0m\u001b[0;34m(\u001b[0m\u001b[0mself\u001b[0m\u001b[0;34m,\u001b[0m \u001b[0muser\u001b[0m\u001b[0;34m=\u001b[0m\u001b[0;34m\"mashable\"\u001b[0m\u001b[0;34m,\u001b[0m \u001b[0mmine_retweets\u001b[0m\u001b[0;34m=\u001b[0m\u001b[0mFalse\u001b[0m\u001b[0;34m,\u001b[0m \u001b[0mmax_id\u001b[0m\u001b[0;34m=\u001b[0m\u001b[0mNone\u001b[0m\u001b[0;34m)\u001b[0m\u001b[0;34m:\u001b[0m\u001b[0;34m\u001b[0m\u001b[0m\n\u001b[1;32m     33\u001b[0m \u001b[0;34m\u001b[0m\u001b[0m\n\u001b[0;32m---> 34\u001b[0;31m         \u001b[0mstatuses\u001b[0m   \u001b[0;34m=\u001b[0m   \u001b[0mself\u001b[0m\u001b[0;34m.\u001b[0m\u001b[0mapi\u001b[0m\u001b[0;34m.\u001b[0m\u001b[0mGetUserTimeline\u001b[0m\u001b[0;34m(\u001b[0m\u001b[0mscreen_name\u001b[0m\u001b[0;34m=\u001b[0m\u001b[0muser\u001b[0m\u001b[0;34m,\u001b[0m \u001b[0mcount\u001b[0m\u001b[0;34m=\u001b[0m\u001b[0mself\u001b[0m\u001b[0;34m.\u001b[0m\u001b[0mrequest_limit\u001b[0m\u001b[0;34m,\u001b[0m \u001b[0mmax_id\u001b[0m\u001b[0;34m=\u001b[0m\u001b[0mmax_id\u001b[0m\u001b[0;34m)\u001b[0m\u001b[0;34m\u001b[0m\u001b[0m\n\u001b[0m\u001b[1;32m     35\u001b[0m         \u001b[0mdata\u001b[0m       \u001b[0;34m=\u001b[0m   \u001b[0;34m[\u001b[0m\u001b[0;34m]\u001b[0m\u001b[0;34m\u001b[0m\u001b[0m\n\u001b[1;32m     36\u001b[0m \u001b[0;34m\u001b[0m\u001b[0m\n",
      "\u001b[0;32m//anaconda/lib/python2.7/site-packages/twitter/api.pyc\u001b[0m in \u001b[0;36mGetUserTimeline\u001b[0;34m(self, user_id, screen_name, since_id, max_id, count, include_rts, trim_user, exclude_replies)\u001b[0m\n\u001b[1;32m    754\u001b[0m             \u001b[0mparameters\u001b[0m\u001b[0;34m[\u001b[0m\u001b[0;34m'since_id'\u001b[0m\u001b[0;34m]\u001b[0m \u001b[0;34m=\u001b[0m \u001b[0menf_type\u001b[0m\u001b[0;34m(\u001b[0m\u001b[0;34m'since_id'\u001b[0m\u001b[0;34m,\u001b[0m \u001b[0mint\u001b[0m\u001b[0;34m,\u001b[0m \u001b[0msince_id\u001b[0m\u001b[0;34m)\u001b[0m\u001b[0;34m\u001b[0m\u001b[0m\n\u001b[1;32m    755\u001b[0m         \u001b[0;32mif\u001b[0m \u001b[0mmax_id\u001b[0m\u001b[0;34m:\u001b[0m\u001b[0;34m\u001b[0m\u001b[0m\n\u001b[0;32m--> 756\u001b[0;31m             \u001b[0mparameters\u001b[0m\u001b[0;34m[\u001b[0m\u001b[0;34m'max_id'\u001b[0m\u001b[0;34m]\u001b[0m \u001b[0;34m=\u001b[0m \u001b[0menf_type\u001b[0m\u001b[0;34m(\u001b[0m\u001b[0;34m'max_id'\u001b[0m\u001b[0;34m,\u001b[0m \u001b[0mint\u001b[0m\u001b[0;34m,\u001b[0m \u001b[0mmax_id\u001b[0m\u001b[0;34m)\u001b[0m\u001b[0;34m\u001b[0m\u001b[0m\n\u001b[0m\u001b[1;32m    757\u001b[0m         \u001b[0;32mif\u001b[0m \u001b[0mcount\u001b[0m\u001b[0;34m:\u001b[0m\u001b[0;34m\u001b[0m\u001b[0m\n\u001b[1;32m    758\u001b[0m             \u001b[0mparameters\u001b[0m\u001b[0;34m[\u001b[0m\u001b[0;34m'count'\u001b[0m\u001b[0;34m]\u001b[0m \u001b[0;34m=\u001b[0m \u001b[0menf_type\u001b[0m\u001b[0;34m(\u001b[0m\u001b[0;34m'count'\u001b[0m\u001b[0;34m,\u001b[0m \u001b[0mint\u001b[0m\u001b[0;34m,\u001b[0m \u001b[0mcount\u001b[0m\u001b[0;34m)\u001b[0m\u001b[0;34m\u001b[0m\u001b[0m\n",
      "\u001b[0;32m//anaconda/lib/python2.7/site-packages/twitter/twitter_utils.pyc\u001b[0m in \u001b[0;36menf_type\u001b[0;34m(field, _type, val)\u001b[0m\n\u001b[1;32m    270\u001b[0m     \u001b[0;32mexcept\u001b[0m \u001b[0mValueError\u001b[0m\u001b[0;34m:\u001b[0m\u001b[0;34m\u001b[0m\u001b[0m\n\u001b[1;32m    271\u001b[0m         raise TwitterError({\n\u001b[0;32m--> 272\u001b[0;31m             \u001b[0;34m'message'\u001b[0m\u001b[0;34m:\u001b[0m \u001b[0;34m'\"{0}\" must be type {1}'\u001b[0m\u001b[0;34m.\u001b[0m\u001b[0mformat\u001b[0m\u001b[0;34m(\u001b[0m\u001b[0mfield\u001b[0m\u001b[0;34m,\u001b[0m \u001b[0m_type\u001b[0m\u001b[0;34m.\u001b[0m\u001b[0m__name__\u001b[0m\u001b[0;34m)\u001b[0m\u001b[0;34m\u001b[0m\u001b[0m\n\u001b[0m\u001b[1;32m    273\u001b[0m         })\n",
      "\u001b[0;31mTwitterError\u001b[0m: {u'message': u'\"max_id\" must be type int'}"
     ]
    }
   ],
   "source": [
    "\n",
    "for _ in range(0,10):\n",
    "    w_tweets = miner.mine_user_tweets(user='washingtonpost', max_id=newmaxid)\n",
    "    w_dfx = pd.DataFrame(w_tweets)\n",
    "    wapo3 = pd.concat([wapo3, w_dfx])\n",
    "    newmaxid = wapo3.tweet_id.min() - 1"
   ]
  },
  {
   "cell_type": "code",
   "execution_count": 552,
   "metadata": {},
   "outputs": [
    {
     "data": {
      "text/plain": [
       "823914309029724159"
      ]
     },
     "execution_count": 552,
     "metadata": {},
     "output_type": "execute_result"
    }
   ],
   "source": [
    "newmaxid"
   ]
  },
  {
   "cell_type": "code",
   "execution_count": 553,
   "metadata": {},
   "outputs": [
    {
     "data": {
      "text/plain": [
       "823914309029724160"
      ]
     },
     "execution_count": 553,
     "metadata": {},
     "output_type": "execute_result"
    }
   ],
   "source": [
    "wapo2.tweet_id.min()"
   ]
  },
  {
   "cell_type": "code",
   "execution_count": null,
   "metadata": {
    "collapsed": true
   },
   "outputs": [],
   "source": []
  },
  {
   "cell_type": "code",
   "execution_count": 524,
   "metadata": {},
   "outputs": [],
   "source": [
    "w_df5 = pd.DataFrame(w_tweets)\n"
   ]
  },
  {
   "cell_type": "code",
   "execution_count": 523,
   "metadata": {},
   "outputs": [
    {
     "data": {
      "text/plain": [
       "827478801634451455"
      ]
     },
     "execution_count": 523,
     "metadata": {},
     "output_type": "execute_result"
    }
   ],
   "source": [
    "newmaxid = w_df5.tweet_id.min() - 1\n",
    "newmaxid"
   ]
  },
  {
   "cell_type": "code",
   "execution_count": null,
   "metadata": {},
   "outputs": [],
   "source": []
  },
  {
   "cell_type": "code",
   "execution_count": 109,
   "metadata": {
    "collapsed": true
   },
   "outputs": [],
   "source": [
    "masht = pd.concat([mt_df, mt_df2, mt_df3, mt_df4, mt_df5])"
   ]
  },
  {
   "cell_type": "code",
   "execution_count": 178,
   "metadata": {
    "collapsed": true
   },
   "outputs": [],
   "source": [
    "wapo = pd.concat([w_df, w_df2, w_df3, w_df4, w_df5])\n",
    "nyt = pd.concat([ny_df, ny_df2, ny_df3, ny_df4, ny_df5])\n",
    "buzz = pd.concat([b_df, b_df2, b_df3, b_df4, b_df5])"
   ]
  },
  {
   "cell_type": "code",
   "execution_count": 228,
   "metadata": {
    "collapsed": true
   },
   "outputs": [],
   "source": [
    "tweet = pd.concat([wapo,buzz,nyt,masht])\n",
    "paper = pd.concat([wapo,nyt])\n",
    "web = pd.concat([masht,buzz])"
   ]
  },
  {
   "cell_type": "code",
   "execution_count": 481,
   "metadata": {
    "collapsed": true
   },
   "outputs": [],
   "source": [
    "import seaborn as sns"
   ]
  },
  {
   "cell_type": "code",
   "execution_count": 484,
   "metadata": {},
   "outputs": [
    {
     "data": {
      "image/png": "[encoded data removed]",
      "text/plain": [
       "<matplotlib.figure.Figure at 0x126fed810>"
      ]
     },
     "metadata": {},
     "output_type": "display_data"
    }
   ],
   "source": [
    "#looking at relationships \n",
    "\n",
    "sns.barplot(x = 'handle', y = 'polarity', data = tweet)\n",
    "plt.show()"
   ]
  },
  {
   "cell_type": "code",
   "execution_count": 483,
   "metadata": {},
   "outputs": [
    {
     "data": {
      "image/png": "[encoded data removed]",
      "text/plain": [
       "<matplotlib.figure.Figure at 0x1203627d0>"
      ]
     },
     "metadata": {},
     "output_type": "display_data"
    }
   ],
   "source": [
    "sns.barplot(x = 'handle', y = 'subjectivity', data = tweet)\n",
    "plt.show()"
   ]
  },
  {
   "cell_type": "code",
   "execution_count": 515,
   "metadata": {},
   "outputs": [],
   "source": [
    "#most_subject = tweet.sort('subjectivity', ascending = False)\n",
    "#most_subject[['handle', 'text', 'retweet_count', 'subjectivity']]"
   ]
  },
  {
   "cell_type": "code",
   "execution_count": 516,
   "metadata": {},
   "outputs": [],
   "source": [
    "#most_polar = tweet.sort('polarity', ascending = False)\n",
    "#most_polar[['handle', 'text', 'retweet_count', 'polarity']]"
   ]
  },
  {
   "cell_type": "code",
   "execution_count": 50,
   "metadata": {
    "collapsed": true
   },
   "outputs": [],
   "source": [
    "pd.set_option('display.max_colwidth', -1)"
   ]
  },
  {
   "cell_type": "code",
   "execution_count": 703,
   "metadata": {},
   "outputs": [],
   "source": [
    "#Writing functions to append columns to the dataframes indicating if the tweet was in the top half, top 75% and top 90% \n",
    "#of retweets by that organization. \n",
    "\n",
    "def get_quantile(df, quant1 = .5, quant2 = .75, quant3 = .9):\n",
    "    return df.retweet_count.quantile(quant1), df.retweet_count.quantile(quant2),df.retweet_count.quantile(quant3), \n",
    "    \n",
    "\n",
    "def add_quants(df):\n",
    "    a,b,c = get_quantile(df)\n",
    "    new_series = []\n",
    "    for i in df.retweet_count:\n",
    "        if i >= c:\n",
    "            new_series.append([1,1,1])\n",
    "        elif (i < c and i >= b):\n",
    "            new_series.append([1,1,0])\n",
    "        elif i > a:\n",
    "            new_series.append([1,0,0])\n",
    "        else:\n",
    "            new_series.append([0,0,0])\n",
    "    new_df = pd.DataFrame(new_series, columns = ['perc_50', 'perc_75', 'perc_90'])\n",
    "    df.reset_index(inplace=True)\n",
    "    dfc = pd.concat([df,new_df],axis=1)\n",
    "    return dfc.drop(['index'], axis=1)"
   ]
  },
  {
   "cell_type": "code",
   "execution_count": 699,
   "metadata": {},
   "outputs": [],
   "source": [
    "\n",
    "    \n",
    "  "
   ]
  },
  {
   "cell_type": "code",
   "execution_count": 697,
   "metadata": {},
   "outputs": [],
   "source": []
  },
  {
   "cell_type": "code",
   "execution_count": 702,
   "metadata": {},
   "outputs": [],
   "source": [
    "#wapo6 = add_quants(wapo6)\n",
    "#wapo6"
   ]
  },
  {
   "cell_type": "code",
   "execution_count": 696,
   "metadata": {},
   "outputs": [],
   "source": [
    "wapo6 = wapo6.drop(['perc_50', 'perc_75', 'perc_90'], axis=1)"
   ]
  },
  {
   "cell_type": "code",
   "execution_count": null,
   "metadata": {
    "collapsed": true
   },
   "outputs": [],
   "source": [
    "new_df = pd.DataFrame(new_series, columns = ['perc_50', 'perc_75','perc_90'])\n"
   ]
  },
  {
   "cell_type": "code",
   "execution_count": 631,
   "metadata": {},
   "outputs": [],
   "source": [
    "#wapo5['nc'] = \n",
    "new_list = add_quants(wapo5)\n",
    "\n",
    "new_df = pd.DataFrame(new_list, columns = ['perc_50', 'perc_75', 'perc_90'])\n",
    "\n",
    "wapo5 = wapo5.join(new_df)\n"
   ]
  },
  {
   "cell_type": "code",
   "execution_count": 603,
   "metadata": {},
   "outputs": [
    {
     "data": {
      "text/plain": [
       "count    2546.000000\n",
       "mean      279.255302\n",
       "std       511.166139\n",
       "min         6.000000\n",
       "25%        60.250000\n",
       "50%       127.000000\n",
       "75%       286.750000\n",
       "max      7426.000000\n",
       "Name: retweet_count, dtype: float64"
      ]
     },
     "execution_count": 603,
     "metadata": {},
     "output_type": "execute_result"
    }
   ],
   "source": [
    "wapo2.retweet_count.describe()"
   ]
  },
  {
   "cell_type": "code",
   "execution_count": null,
   "metadata": {
    "collapsed": true
   },
   "outputs": [],
   "source": [
    "wapo5[['perc_50', 'perc_75', 'perc_95']] = "
   ]
  },
  {
   "cell_type": "code",
   "execution_count": null,
   "metadata": {
    "collapsed": true
   },
   "outputs": [],
   "source": [
    "half, top_quarter, top_decile = retweet"
   ]
  },
  {
   "cell_type": "code",
   "execution_count": 534,
   "metadata": {
    "collapsed": true
   },
   "outputs": [],
   "source": [
    "wash2_90 = wapo2.retweet_count.quantile(.9)\n",
    "wash2_75 = wapo2.retweet_count.quantile(.75)\n",
    "wash2_50 = wapo2.retweet_count.quantile(.5)\n",
    "\n",
    "nyt90 = nyt.retweet_count.quantile(.9)\n",
    "nyt75 = nyt.retweet_count.quantile(.75)\n",
    "nyt50 = nyt.retweet_count.quantile(.5)\n",
    "\n",
    "buzz90 = buzz.retweet_count.quantile(.9)\n",
    "buzz75 = buzz.retweet_count.quantile(.75)\n",
    "buzz50 = buzz.retweet_count.quantile(.5)\n",
    "\n",
    "masht90 = masht.retweet_count.quantile(.9)\n",
    "masht75 = masht.retweet_count.quantile(.75)\n",
    "masht50 = masht.retweet_count.quantile(.5)\n"
   ]
  },
  {
   "cell_type": "code",
   "execution_count": 214,
   "metadata": {},
   "outputs": [],
   "source": [
    "buzz90 = buzz.retweet_count.quantile(.9)\n",
    "buzz75 = buzz.retweet_count.quantile(.75)\n",
    "buzz50 = buzz.retweet_count.quantile(.5)"
   ]
  },
  {
   "cell_type": "code",
   "execution_count": 219,
   "metadata": {},
   "outputs": [
    {
     "data": {
      "text/plain": [
       "28.5"
      ]
     },
     "execution_count": 219,
     "metadata": {},
     "output_type": "execute_result"
    }
   ],
   "source": [
    "masht50"
   ]
  },
  {
   "cell_type": "code",
   "execution_count": 213,
   "metadata": {},
   "outputs": [
    {
     "data": {
      "text/plain": [
       "241.0"
      ]
     },
     "execution_count": 213,
     "metadata": {},
     "output_type": "execute_result"
    }
   ],
   "source": [
    "nyt50"
   ]
  },
  {
   "cell_type": "code",
   "execution_count": null,
   "metadata": {
    "collapsed": true
   },
   "outputs": [],
   "source": [
    "class washclean():\n",
    "    "
   ]
  },
  {
   "cell_type": "code",
   "execution_count": 535,
   "metadata": {
    "collapsed": true
   },
   "outputs": [],
   "source": [
    "def wc90(column):\n",
    "    if column <= wash2_90:\n",
    "        return 0\n",
    "    else:\n",
    "        return 1\n",
    "def wc75(column):\n",
    "    if column <= wash2_75:\n",
    "        return 0\n",
    "    else:\n",
    "        return 1\n",
    "def wc50(column):\n",
    "    if column <= wash2_50:\n",
    "        return 0\n",
    "    else:\n",
    "        return 1\n",
    "def bc90(column):\n",
    "    if column <= buzz90:\n",
    "        return 0\n",
    "    else:\n",
    "        return 1\n",
    "def bc75(column):\n",
    "    if column <= buzz75:\n",
    "        return 0\n",
    "    else:\n",
    "        return 1\n",
    "def bc50(column):\n",
    "    if column <= buzz50:\n",
    "        return 0\n",
    "    else:\n",
    "        return 1\n",
    "def nc90(column):\n",
    "    if column <= nyt90:\n",
    "        return 0\n",
    "    else:\n",
    "        return 1\n",
    "def nc75(column):\n",
    "    if column <= nyt75:\n",
    "        return 0\n",
    "    else:\n",
    "        return 1\n",
    "def nc50(column):\n",
    "    if column <= nyt50:\n",
    "        return 0\n",
    "    else:\n",
    "        return 1\n",
    "def mc90(column):\n",
    "    if column <= masht90:\n",
    "        return 0\n",
    "    else:\n",
    "        return 1\n",
    "def mc75(column):\n",
    "    if column <= masht75:\n",
    "        return 0\n",
    "    else:\n",
    "        return 1\n",
    "def mc50(column):\n",
    "    if column <= masht50:\n",
    "        return 0\n",
    "    else:\n",
    "        return 1"
   ]
  },
  {
   "cell_type": "code",
   "execution_count": null,
   "metadata": {
    "collapsed": true
   },
   "outputs": [],
   "source": [
    "df[['hour', 'weekday', 'weeknum']]"
   ]
  },
  {
   "cell_type": "code",
   "execution_count": 536,
   "metadata": {
    "collapsed": true
   },
   "outputs": [],
   "source": [
    "wapo2['perc_90'] = wapo2['retweet_count'].apply(wc90)\n",
    "wapo2['perc_75'] = wapo2['retweet_count'].apply(wc75)\n",
    "wapo2['perc_50'] = wapo2['retweet_count'].apply(wc50)"
   ]
  },
  {
   "cell_type": "code",
   "execution_count": 221,
   "metadata": {
    "collapsed": true
   },
   "outputs": [],
   "source": [
    "wapo['perc_90'] = wapo['retweet_count'].apply(wc90)\n",
    "wapo['perc_75'] = wapo['retweet_count'].apply(wc75)\n",
    "wapo['perc_50'] = wapo['retweet_count'].apply(wc50)\n",
    "\n",
    "nyt['perc_90'] = nyt['retweet_count'].apply(nc90)\n",
    "nyt['perc_75'] = nyt['retweet_count'].apply(nc75)\n",
    "nyt['perc_50'] = nyt['retweet_count'].apply(nc50)\n",
    "\n",
    "buzz['perc_90'] = buzz['retweet_count'].apply(bc90)\n",
    "buzz['perc_75'] = buzz['retweet_count'].apply(bc75)\n",
    "buzz['perc_50'] = buzz['retweet_count'].apply(bc50)\n",
    "\n",
    "masht['perc_90'] = masht['retweet_count'].apply(mc90)\n",
    "masht['perc_75'] = masht['retweet_count'].apply(mc75)\n",
    "masht['perc_50'] = masht['retweet_count'].apply(mc50)"
   ]
  },
  {
   "cell_type": "code",
   "execution_count": null,
   "metadata": {},
   "outputs": [],
   "source": []
  },
  {
   "cell_type": "code",
   "execution_count": 184,
   "metadata": {
    "scrolled": true
   },
   "outputs": [
    {
     "data": {
      "text/plain": [
       "count    4000.000000 \n",
       "mean     286.379500  \n",
       "std      980.805103  \n",
       "min      1.000000    \n",
       "25%      40.000000   \n",
       "50%      109.000000  \n",
       "75%      282.000000  \n",
       "max      48227.000000\n",
       "Name: retweet_count, dtype: float64"
      ]
     },
     "execution_count": 184,
     "metadata": {},
     "output_type": "execute_result"
    }
   ],
   "source": [
    "tweet.retweet_count.describe()"
   ]
  },
  {
   "cell_type": "code",
   "execution_count": 288,
   "metadata": {
    "collapsed": true
   },
   "outputs": [],
   "source": [
    "df_list = [masht, wapo, tweet, nyt, buzz, paper, web]"
   ]
  },
  {
   "cell_type": "code",
   "execution_count": 239,
   "metadata": {},
   "outputs": [],
   "source": [
    "#converting to datetime \n",
    "for df in df_list:\n",
    "    df['created_at'] = pd.to_datetime(df.created_at)"
   ]
  },
  {
   "cell_type": "code",
   "execution_count": null,
   "metadata": {},
   "outputs": [],
   "source": []
  },
  {
   "cell_type": "code",
   "execution_count": 544,
   "metadata": {},
   "outputs": [],
   "source": [
    "add_text_blob(wapo2)"
   ]
  },
  {
   "cell_type": "code",
   "execution_count": 547,
   "metadata": {},
   "outputs": [
    {
     "name": "stderr",
     "output_type": "stream",
     "text": [
      "/anaconda/lib/python2.7/site-packages/ipykernel/__main__.py:1: SettingWithCopyWarning: \n",
      "A value is trying to be set on a copy of a slice from a DataFrame.\n",
      "Try using .loc[row_indexer,col_indexer] = value instead\n",
      "\n",
      "See the caveats in the documentation: http://pandas.pydata.org/pandas-docs/stable/indexing.html#indexing-view-versus-copy\n",
      "  if __name__ == '__main__':\n"
     ]
    }
   ],
   "source": [
    "wapo2['npstr'] = wapo2['noun_phrase'].astype('string')  "
   ]
  },
  {
   "cell_type": "code",
   "execution_count": 543,
   "metadata": {
    "collapsed": true
   },
   "outputs": [],
   "source": [
    "from textblob import TextBlob\n",
    "\n",
    "def add_text_blob(df):\n",
    "\n",
    "        #df['created_at'] = pd.to_datetime(df.created_at)\n",
    "        df['blob'] = df['text'].apply(lambda x: TextBlob(x))\n",
    "        df['polarity'] = df['blob'].apply(lambda x: x.sentiment.polarity)\n",
    "        df['subjectivity'] = df['blob'].apply(lambda x: x.sentiment.subjectivity)\n",
    "        df['noun_phrase'] = df['blob'].apply(lambda x: x.noun_phrases)"
   ]
  },
  {
   "cell_type": "code",
   "execution_count": 345,
   "metadata": {},
   "outputs": [],
   "source": [
    "\n",
    "cvt = CountVectorizer()\n",
    "X_all = cvt.fit_transform(tweet[\"noun_phrase\"])"
   ]
  },
  {
   "cell_type": "code",
   "execution_count": 343,
   "metadata": {
    "collapsed": true
   },
   "outputs": [],
   "source": [
    "tweet['noun_phrase'] = tweet['noun_phrase'].apply(lambda x: \" \".join(x))\n"
   ]
  },
  {
   "cell_type": "code",
   "execution_count": 250,
   "metadata": {
    "collapsed": true
   },
   "outputs": [],
   "source": [
    "pd.set_option('display.max_colwidth', 40)"
   ]
  },
  {
   "cell_type": "code",
   "execution_count": 265,
   "metadata": {
    "collapsed": true
   },
   "outputs": [],
   "source": [
    "from pandas.lib import Timestamp\n",
    "import datetime as dt"
   ]
  },
  {
   "cell_type": "code",
   "execution_count": 277,
   "metadata": {
    "collapsed": true
   },
   "outputs": [],
   "source": [
    "def is_weekend(column):\n",
    "    if column == 'Sat':\n",
    "        return 1\n",
    "    elif column == 'Sun':\n",
    "        return 1\n",
    "    else:\n",
    "        return 0 "
   ]
  },
  {
   "cell_type": "code",
   "execution_count": 278,
   "metadata": {},
   "outputs": [],
   "source": [
    "for df in df_list:\n",
    "    df['weekday'] = df['created_at'].apply(lambda x: x.strftime('%a'))\n",
    "    df['hour'] = df['created_at'].apply(lambda x: x.strftime('%H'))\n",
    "    df['is_weekend'] = df['weekday'].apply(is_weekend)"
   ]
  },
  {
   "cell_type": "code",
   "execution_count": 275,
   "metadata": {},
   "outputs": [],
   "source": [
    "for df in df_list:\n",
    "    list_temp = []\n",
    "    for row in df['created_at']:\n",
    "        list_temp.append(Timestamp(row, tz = 'UTC').tz_convert('US/Eastern'))\n",
    "    df['created_at'] = list_temp"
   ]
  },
  {
   "cell_type": "code",
   "execution_count": 299,
   "metadata": {},
   "outputs": [],
   "source": [
    "def row_drop(df):\n",
    "    return df.drop([0,1,2])\n",
    "def row_drop2(df):\n",
    "    return df.drop([0,1,2,3,4])\n",
    "def row_drop3(df):\n",
    "    return df.drop([0,1,2,3,4,5,6,7])"
   ]
  },
  {
   "cell_type": "code",
   "execution_count": 300,
   "metadata": {
    "collapsed": true
   },
   "outputs": [],
   "source": [
    "masht = row_drop(masht)\n",
    "wapo = row_drop(wapo)\n",
    "nyt = row_drop(nyt)\n",
    "buzz = row_drop(buzz)\n",
    "paper = row_drop2(paper)\n",
    "web = row_drop2(web)\n",
    "tweet = row_drop3(tweet)\n"
   ]
  },
  {
   "cell_type": "code",
   "execution_count": 309,
   "metadata": {},
   "outputs": [],
   "source": [
    "wapo_dummies = pd.get_dummies(wapo.weekday).iloc[:, 1:]\n",
    "\n",
    "# concatenate two DataFrames (axis=0 for rows, axis=1 for columns)\n",
    "wapo = pd.concat([wapo, wapo_dummies], axis=1)"
   ]
  },
  {
   "cell_type": "code",
   "execution_count": 328,
   "metadata": {
    "collapsed": true
   },
   "outputs": [],
   "source": [
    "t_dummies = pd.get_dummies(tweet.weekday).iloc[:, 1:]\n",
    "\n",
    "# concatenate two DataFrames (axis=0 for rows, axis=1 for columns)\n",
    "tweet = pd.concat([tweet, t_dummies], axis=1)"
   ]
  },
  {
   "cell_type": "code",
   "execution_count": 5,
   "metadata": {},
   "outputs": [],
   "source": [
    "news['shares_num'] = news[' shares'].apply(shares)"
   ]
  },
  {
   "cell_type": "code",
   "execution_count": 22,
   "metadata": {
    "collapsed": true
   },
   "outputs": [],
   "source": [
    "news['shares_75'] = news[' shares'].apply(shares_75)"
   ]
  },
  {
   "cell_type": "code",
   "execution_count": 549,
   "metadata": {
    "collapsed": true
   },
   "outputs": [],
   "source": [
    "Xw5 = wapo[['polarity', 'subjectivity', 'hour', 'Mon', 'Sat', 'Sun', 'Thu', 'Tue', 'Wed']]\n",
    "yw5 = wapo['perc_50']\n",
    "\n",
    "Xt5 = tweet[['polarity', 'subjectivity', 'hour', 'Mon', 'Sat', 'Sun', 'Thu', 'Tue', 'Wed']]\n",
    "yt5 = tweet['perc_50']\n",
    "\n",
    "Xtt5 = tweet['text']\n",
    "ytt5 = tweet['perc_50']\n",
    "\n",
    "Xtnv5 = tweet['noun_phrase']\n",
    "ytnv5 = tweet['perc_50']\n",
    "\n",
    "Xtnv75 = tweet['noun_phrase']\n",
    "ytnv75 = tweet['perc_75']\n",
    "\n",
    "Xtnv9 = tweet['noun_phrase']\n",
    "ytnv9 = tweet['perc_90']\n",
    "\n",
    "Xwt5 = wapo2['text']\n",
    "ywt5 = wapo2['perc_50']"
   ]
  },
  {
   "cell_type": "code",
   "execution_count": 23,
   "metadata": {
    "collapsed": true
   },
   "outputs": [],
   "source": [
    "X = news.drop(['url',' timedelta', ' shares', 'shares_num'], axis=1)\n",
    "y = news['shares_num']\n"
   ]
  },
  {
   "cell_type": "code",
   "execution_count": 310,
   "metadata": {},
   "outputs": [
    {
     "data": {
      "text/html": [
       "<div>\n",
       "<table border=\"1\" class=\"dataframe\">\n",
       "  <thead>\n",
       "    <tr style=\"text-align: right;\">\n",
       "      <th></th>\n",
       "      <th>created_at</th>\n",
       "      <th>geo</th>\n",
       "      <th>handle</th>\n",
       "      <th>mined_at</th>\n",
       "      <th>place</th>\n",
       "      <th>retweet_count</th>\n",
       "      <th>text</th>\n",
       "      <th>tweet_id</th>\n",
       "      <th>perc_90</th>\n",
       "      <th>perc_75</th>\n",
       "      <th>...</th>\n",
       "      <th>time_EST</th>\n",
       "      <th>weekday</th>\n",
       "      <th>hour</th>\n",
       "      <th>is_weekend</th>\n",
       "      <th>Mon</th>\n",
       "      <th>Sat</th>\n",
       "      <th>Sun</th>\n",
       "      <th>Thu</th>\n",
       "      <th>Tue</th>\n",
       "      <th>Wed</th>\n",
       "    </tr>\n",
       "  </thead>\n",
       "  <tbody>\n",
       "    <tr>\n",
       "      <th>3</th>\n",
       "      <td>2017-02-09 23:08:57-05:00</td>\n",
       "      <td>None</td>\n",
       "      <td>Washington Post</td>\n",
       "      <td>2017-02-10 00:00:05.890720</td>\n",
       "      <td>None</td>\n",
       "      <td>996</td>\n",
       "      <td>RT @adamentous: Either NSA Flynn mis...</td>\n",
       "      <td>829904965376303104</td>\n",
       "      <td>1</td>\n",
       "      <td>1</td>\n",
       "      <td>...</td>\n",
       "      <td>2017-02-09 23:08:57-05:00</td>\n",
       "      <td>Thu</td>\n",
       "      <td>23</td>\n",
       "      <td>0</td>\n",
       "      <td>0.0</td>\n",
       "      <td>0.0</td>\n",
       "      <td>0.0</td>\n",
       "      <td>1.0</td>\n",
       "      <td>0.0</td>\n",
       "      <td>0.0</td>\n",
       "    </tr>\n",
       "  </tbody>\n",
       "</table>\n",
       "<p>1 rows × 24 columns</p>\n",
       "</div>"
      ],
      "text/plain": [
       "                 created_at   geo           handle                   mined_at  \\\n",
       "3 2017-02-09 23:08:57-05:00  None  Washington Post 2017-02-10 00:00:05.890720   \n",
       "\n",
       "  place  retweet_count                                     text  \\\n",
       "3  None            996  RT @adamentous: Either NSA Flynn mis...   \n",
       "\n",
       "             tweet_id  perc_90  perc_75 ...                   time_EST  \\\n",
       "3  829904965376303104        1        1 ...  2017-02-09 23:08:57-05:00   \n",
       "\n",
       "  weekday  hour  is_weekend  Mon  Sat  Sun  Thu  Tue  Wed  \n",
       "3     Thu    23           0  0.0  0.0  0.0  1.0  0.0  0.0  \n",
       "\n",
       "[1 rows x 24 columns]"
      ]
     },
     "execution_count": 310,
     "metadata": {},
     "output_type": "execute_result"
    }
   ],
   "source": [
    "wapo.head(1)"
   ]
  },
  {
   "cell_type": "code",
   "execution_count": 28,
   "metadata": {
    "collapsed": true
   },
   "outputs": [],
   "source": [
    "X_75 = news.drop(['url',' timedelta', ' shares', 'shares_num', 'shares_75'], axis=1)\n",
    "y_75 = news['shares_75']"
   ]
  },
  {
   "cell_type": "code",
   "execution_count": 447,
   "metadata": {},
   "outputs": [],
   "source": [
    "from sklearn.model_selection import train_test_split\n",
    "from sklearn.metrics import classification_report, confusion_matrix, accuracy_score\n",
    "from sklearn.model_selection import GridSearchCV\n",
    "from time import time\n",
    "from sklearn.ensemble import RandomForestClassifier\n",
    "import numpy as np\n",
    "from sklearn.naive_bayes import MultinomialNB, BernoulliNB\n",
    "from sklearn.feature_extraction.text import CountVectorizer, TfidfTransformer, TfidfVectorizer \n",
    "from sklearn.pipeline import Pipeline\n",
    "from sklearn.svm import SVC\n",
    "from sklearn.feature_extraction import text\n"
   ]
  },
  {
   "cell_type": "code",
   "execution_count": 452,
   "metadata": {},
   "outputs": [],
   "source": [
    "#stop_ngram_counts_xtt5"
   ]
  },
  {
   "cell_type": "code",
   "execution_count": 453,
   "metadata": {},
   "outputs": [],
   "source": [
    "my_additional_stop_words = ['https','co']\n",
    "stop_words = text.ENGLISH_STOP_WORDS.union(my_additional_stop_words)"
   ]
  },
  {
   "cell_type": "code",
   "execution_count": 409,
   "metadata": {},
   "outputs": [],
   "source": [
    "pipeline_lr = Pipeline([\n",
    "    ('vect', CountVectorizer(ngram_range=(1,3))),\n",
    "    ('tfidf', TfidfTransformer()),\n",
    "    ('cls', LogisticRegression())]) "
   ]
  },
  {
   "cell_type": "code",
   "execution_count": 454,
   "metadata": {
    "collapsed": true
   },
   "outputs": [],
   "source": [
    "pipelineBNB5 = Pipeline([\n",
    "    ('vect', CountVectorizer(ngram_range=(1,3), stop_words=stop_words)),\n",
    "    ('tfidf', TfidfTransformer()),\n",
    "    ('cls', BernoulliNB())])"
   ]
  },
  {
   "cell_type": "code",
   "execution_count": 352,
   "metadata": {
    "collapsed": true
   },
   "outputs": [],
   "source": [
    "pipelineBNB2 = Pipeline([\n",
    "    ('vect', CountVectorizer(ngram_range=(1,2))),\n",
    "    ('tfidf', TfidfTransformer()),\n",
    "    ('cls', BernoulliNB())]) "
   ]
  },
  {
   "cell_type": "code",
   "execution_count": null,
   "metadata": {
    "collapsed": true
   },
   "outputs": [],
   "source": [
    "cvt1 = CountVectorizer(ngram_range=(1,3), stop_words = stop_words)\n",
    "Xcvt = cvt1.fit_transform(Xtnv5_train)\n",
    "test_xcvt = cvt1.transform(Xtnv5_test)"
   ]
  },
  {
   "cell_type": "code",
   "execution_count": 494,
   "metadata": {
    "collapsed": true
   },
   "outputs": [],
   "source": [
    "cvt2 = CountVectorizer(ngram_range=(1,3), stop_words = stop_words)\n",
    "lr_xtv75train = cvt2.fit_transform(Xtnv75_train)\n",
    "test_xcvt = cvt2.transform(Xtnv75_test)"
   ]
  },
  {
   "cell_type": "code",
   "execution_count": 497,
   "metadata": {},
   "outputs": [],
   "source": [
    "df_lr75  = pd.DataFrame(cvt2.fit_transform(Xtnv75_train).todense(), columns=cvt2.get_feature_names())"
   ]
  },
  {
   "cell_type": "code",
   "execution_count": 495,
   "metadata": {},
   "outputs": [
    {
     "name": "stdout",
     "output_type": "stream",
     "text": [
      "LogisticRegression(C=1.0, class_weight=None, dual=False, fit_intercept=True,\n",
      "          intercept_scaling=1, max_iter=100, multi_class='ovr', n_jobs=1,\n",
      "          penalty='l2', random_state=None, solver='liblinear', tol=0.0001,\n",
      "          verbose=0, warm_start=False)\n",
      "{'penalty': 'l2', 'C': 1.0}\n",
      "0.781597222222\n"
     ]
    }
   ],
   "source": [
    "model = GridSearchCV(LogisticRegression(), {'C': [0.001, 0.01, 0.1, 1.0, 10.0, 100.0],\n",
    "                                            'penalty': ['l1', 'l2']})\n",
    "model.fit(lr_xtv75train, ytnv75_train)\n",
    "print model.best_estimator_\n",
    "print model.best_params_\n",
    "print model.best_score_\n",
    "\n",
    "lr_xtv75 = model.best_estimator_"
   ]
  },
  {
   "cell_type": "code",
   "execution_count": 496,
   "metadata": {},
   "outputs": [
    {
     "name": "stdout",
     "output_type": "stream",
     "text": [
      "0.794791666667\n",
      "     0   1\n",
      "0  687  31\n",
      "1  166  76\n",
      "             precision    recall  f1-score   support\n",
      "\n",
      "          0       0.81      0.96      0.87       718\n",
      "          1       0.71      0.31      0.44       242\n",
      "\n",
      "avg / total       0.78      0.79      0.76       960\n",
      "\n"
     ]
    }
   ],
   "source": [
    "eval_model(lr_xtv75, test_xcvt, ytnv75_test)"
   ]
  },
  {
   "cell_type": "code",
   "execution_count": null,
   "metadata": {
    "collapsed": true
   },
   "outputs": [],
   "source": [
    "#testing pipelines"
   ]
  },
  {
   "cell_type": "code",
   "execution_count": 595,
   "metadata": {},
   "outputs": [],
   "source": [
    "cvt1 = CountVectorizer(ngram_range=(1,3), stop_words = stop_words)\n",
    "Xcvt = cvt1.fit_transform(Xtnv5_train)\n",
    "test_xcvt = cvt1.transform(Xtnv5_test)\n",
    "\n",
    "tfidf1 = TfidfVectorizer(ngram_range=(2,4), stop_words = stop_words)\n",
    "lr_xtt5train_tfidf = tfidf1.fit_transform(Xtt5_train)\n",
    "lr_xtt5test_tfidf = tfidf1.transform(Xtt5_test)\n"
   ]
  },
  {
   "cell_type": "code",
   "execution_count": 460,
   "metadata": {},
   "outputs": [
    {
     "name": "stdout",
     "output_type": "stream",
     "text": [
      "0.685416666667\n",
      "     0    1\n",
      "0  379  102\n",
      "1  200  279\n",
      "             precision    recall  f1-score   support\n",
      "\n",
      "          0       0.65      0.79      0.72       481\n",
      "          1       0.73      0.58      0.65       479\n",
      "\n",
      "avg / total       0.69      0.69      0.68       960\n",
      "\n"
     ]
    }
   ],
   "source": [
    "lr_xtt5 = LogisticRegression()\n",
    "run_model(lr_xtt5, lr_xtt5train_tfidf, lr_xtt5test_tfidf, ytt5_train, ytt5_test)"
   ]
  },
  {
   "cell_type": "code",
   "execution_count": 462,
   "metadata": {},
   "outputs": [],
   "source": [
    "df_lr_xtt5train_tfidf  = pd.DataFrame(tfidf1.fit_transform(Xtt5_train).todense(), columns=tfidf1.get_feature_names())"
   ]
  },
  {
   "cell_type": "code",
   "execution_count": 366,
   "metadata": {
    "collapsed": true
   },
   "outputs": [],
   "source": [
    "pipelineBNB2 = Pipeline([\n",
    "    ('vect', CountVectorizer(ngram_range=(1,2))),\n",
    "    ('tfidf', TfidfTransformer()),\n",
    "    ('cls', SVC(class_weight = 'balanced', kernel = 'linear'))\n",
    "]) \n",
    " "
   ]
  },
  {
   "cell_type": "code",
   "execution_count": 458,
   "metadata": {},
   "outputs": [
    {
     "name": "stdout",
     "output_type": "stream",
     "text": [
      "0.708333333333\n",
      "     0    1\n",
      "0  331  150\n",
      "1  130  349\n",
      "             precision    recall  f1-score   support\n",
      "\n",
      "          0       0.72      0.69      0.70       481\n",
      "          1       0.70      0.73      0.71       479\n",
      "\n",
      "avg / total       0.71      0.71      0.71       960\n",
      "\n"
     ]
    }
   ],
   "source": [
    "run_model(pipelineBNB3, Xtt5_train, Xtt5_test, ytt5_train, ytt5_test)"
   ]
  },
  {
   "cell_type": "code",
   "execution_count": 485,
   "metadata": {},
   "outputs": [
    {
     "name": "stdout",
     "output_type": "stream",
     "text": [
      "0.769791666667\n",
      "     0   1\n",
      "0  707  11\n",
      "1  210  32\n",
      "             precision    recall  f1-score   support\n",
      "\n",
      "          0       0.77      0.98      0.86       718\n",
      "          1       0.74      0.13      0.22       242\n",
      "\n",
      "avg / total       0.76      0.77      0.70       960\n",
      "\n"
     ]
    }
   ],
   "source": [
    "run_model(pipeline_lr, Xtnv75_train, Xtnv75_test, ytnv75_train, ytnv75_test)"
   ]
  },
  {
   "cell_type": "code",
   "execution_count": 456,
   "metadata": {},
   "outputs": [
    {
     "name": "stdout",
     "output_type": "stream",
     "text": [
      "0.713541666667\n",
      "     0    1\n",
      "0  370  111\n",
      "1  164  315\n",
      "             precision    recall  f1-score   support\n",
      "\n",
      "          0       0.69      0.77      0.73       481\n",
      "          1       0.74      0.66      0.70       479\n",
      "\n",
      "avg / total       0.72      0.71      0.71       960\n",
      "\n"
     ]
    }
   ],
   "source": [
    "run_model(pipelineBNB5, Xtnv5_train, Xtnv5_test, ytnv5_train, ytnv5_test)"
   ]
  },
  {
   "cell_type": "code",
   "execution_count": 551,
   "metadata": {},
   "outputs": [
    {
     "name": "stdout",
     "output_type": "stream",
     "text": [
      "0.736263736264\n",
      "     0    1\n",
      "0  235   82\n",
      "1   86  234\n",
      "             precision    recall  f1-score   support\n",
      "\n",
      "          0       0.73      0.74      0.74       317\n",
      "          1       0.74      0.73      0.74       320\n",
      "\n",
      "avg / total       0.74      0.74      0.74       637\n",
      "\n"
     ]
    }
   ],
   "source": [
    "run_model(pipelineBNB5, Xwt5_train, Xwt5_test, ywt5_train, ywt5_test)"
   ]
  },
  {
   "cell_type": "code",
   "execution_count": 331,
   "metadata": {
    "collapsed": true
   },
   "outputs": [],
   "source": [
    "w5rfc = RandomForestClassifier()\n",
    "t5rfc = RandomForestClassifier()"
   ]
  },
  {
   "cell_type": "code",
   "execution_count": 332,
   "metadata": {},
   "outputs": [
    {
     "name": "stdout",
     "output_type": "stream",
     "text": [
      "0.542708333333\n",
      "     0    1\n",
      "0  274  207\n",
      "1  232  247\n",
      "             precision    recall  f1-score   support\n",
      "\n",
      "          0       0.54      0.57      0.56       481\n",
      "          1       0.54      0.52      0.53       479\n",
      "\n",
      "avg / total       0.54      0.54      0.54       960\n",
      "\n"
     ]
    }
   ],
   "source": [
    "run_model(t5rfc, Xt5_train, Xt5_test, yt5_train, yt5_test)"
   ]
  },
  {
   "cell_type": "code",
   "execution_count": 318,
   "metadata": {},
   "outputs": [
    {
     "name": "stdout",
     "output_type": "stream",
     "text": [
      "0.578947368421\n",
      "    0   1\n",
      "0  69  56\n",
      "1  48  74\n",
      "             precision    recall  f1-score   support\n",
      "\n",
      "          0       0.59      0.55      0.57       125\n",
      "          1       0.57      0.61      0.59       122\n",
      "\n",
      "avg / total       0.58      0.58      0.58       247\n",
      "\n"
     ]
    }
   ],
   "source": [
    "run_model(w5rfc, Xw5_train, Xw5_test, yw5_train, yw5_test)"
   ]
  },
  {
   "cell_type": "code",
   "execution_count": 327,
   "metadata": {},
   "outputs": [
    {
     "name": "stdout",
     "output_type": "stream",
     "text": [
      "GridSearchCV took 15.31 seconds for 108 candidate parameter settings.\n",
      "Model with rank: 1\n",
      "Mean validation score: 0.562 (std: 0.018)\n",
      "Parameters: {'min_samples_split': 3, 'bootstrap': False, 'criterion': 'entropy', 'max_depth': None, 'min_samples_leaf': 3}\n",
      "\n",
      "Model with rank: 2\n",
      "Mean validation score: 0.561 (std: 0.010)\n",
      "Parameters: {'min_samples_split': 1, 'bootstrap': True, 'criterion': 'gini', 'max_depth': None, 'min_samples_leaf': 1}\n",
      "\n",
      "Model with rank: 3\n",
      "Mean validation score: 0.558 (std: 0.029)\n",
      "Parameters: {'min_samples_split': 3, 'bootstrap': True, 'criterion': 'gini', 'max_depth': None, 'min_samples_leaf': 1}\n",
      "\n",
      "Model with rank: 3\n",
      "Mean validation score: 0.558 (std: 0.016)\n",
      "Parameters: {'min_samples_split': 10, 'bootstrap': True, 'criterion': 'gini', 'max_depth': None, 'min_samples_leaf': 1}\n",
      "\n"
     ]
    }
   ],
   "source": [
    "def report(results, n_top=3):\n",
    "    for i in range(1, n_top + 1):\n",
    "        candidates = np.flatnonzero(results['rank_test_score'] == i)\n",
    "        for candidate in candidates:\n",
    "            print(\"Model with rank: {0}\".format(i))\n",
    "            print(\"Mean validation score: {0:.3f} (std: {1:.3f})\".format(\n",
    "                  results['mean_test_score'][candidate],\n",
    "                  results['std_test_score'][candidate]))\n",
    "            print(\"Parameters: {0}\".format(results['params'][candidate]))\n",
    "            print(\"\")\n",
    "\n",
    "# use a full grid over all parameters\n",
    "param_grid = {\"max_depth\": [3, 6, None],\n",
    "              \"min_samples_split\": [1, 3, 10],\n",
    "              \"min_samples_leaf\": [1, 3, 10],\n",
    "              \"bootstrap\": [True, False],\n",
    "              \"criterion\": [\"gini\", \"entropy\"]}\n",
    "\n",
    "# run grid search\n",
    "grid_search = GridSearchCV(w5rfc, param_grid=param_grid)\n",
    "start = time()\n",
    "grid_search.fit(Xw5_train, yw5_train)\n",
    "\n",
    "print(\"GridSearchCV took %.2f seconds for %d candidate parameter settings.\"\n",
    "      % (time() - start, len(grid_search.cv_results_['params'])))\n",
    "report(grid_search.cv_results_)"
   ]
  },
  {
   "cell_type": "code",
   "execution_count": 550,
   "metadata": {
    "collapsed": true
   },
   "outputs": [],
   "source": [
    "X_train, X_test, y_train, y_test = train_test_split(X,y, train_size = .75, random_state = 10)\n",
    "X_train75, X_test75, y_train75, y_test75 = train_test_split(X_75,y_75, train_size = .75, random_state = 10)\n",
    "Xw5_train, Xw5_test, yw5_train, yw5_test = train_test_split(Xw5,yw5, train_size = .75, random_state = 10)\n",
    "Xt5_train, Xt5_test, yt5_train, yt5_test = train_test_split(Xt5,yt5, train_size = .75, random_state = 10)\n",
    "Xtt5_train, Xtt5_test, ytt5_train, ytt5_test = train_test_split(Xtt5,ytt5, train_size = .75, random_state = 10)\n",
    "Xtnv5_train, Xtnv5_test, ytnv5_train, ytnv5_test = train_test_split(Xtnv5,ytnv5, train_size = .75, random_state = 10)\n",
    "Xtnv75_train, Xtnv75_test, ytnv75_train, ytnv75_test = train_test_split(Xtnv75,ytnv75, train_size = .75, random_state = 10)\n",
    "Xtnv9_train, Xtnv9_test, ytnv9_train, ytnv9_test = train_test_split(Xtnv9,ytnv9, train_size = .75, random_state = 10)\n",
    "Xwt5_train, Xwt5_test, ywt5_train, ywt5_test = train_test_split(Xwt5,ywt5, train_size = .75, random_state = 10)\n",
    "\n"
   ]
  },
  {
   "cell_type": "code",
   "execution_count": 305,
   "metadata": {
    "collapsed": true
   },
   "outputs": [],
   "source": [
    "def run_model(model, x_train, x_test, y_train, y_test):\n",
    "    model.fit(x_train, y_train)\n",
    "    y_preds = model.predict(x_test)\n",
    "    conmat_1 = confusion_matrix(y_test, y_preds, labels=model.classes_)\n",
    "    conmat_1 = pd.DataFrame(conmat_1, columns=model.classes_, index=model.classes_)\n",
    "    print(accuracy_score(y_test,y_preds))\n",
    "    print(conmat_1)\n",
    "    print(classification_report(y_test,y_preds))\n",
    "    #return (accuracy_score(y_test,y_preds), (conmat_1), classification_report(y_test,y_preds))\n",
    "    \n",
    "    \n",
    "def eval_model(model, x_test, y_true):\n",
    "    y_pred = model.predict(x_test)\n",
    "    conmat_1 = confusion_matrix(y_true, y_pred, labels=model.classes_)\n",
    "    conmat_1 = pd.DataFrame(conmat_1, columns=model.classes_, index=model.classes_)\n",
    "    print(accuracy_score(y_true,y_pred))\n",
    "    print(conmat_1)\n",
    "    print(classification_report(y_true,y_pred ))\n",
    "    \n",
    "    \n",
    "def log_get_co(model, X):\n",
    "    coeffs = pd.DataFrame(model.coef_, columns = X.columns)\n",
    "    coeffs = coeffs.transpose()\n",
    "    coeffs.columns = ['Coefficient']\n",
    "    coeffs_t = pd.DataFrame(model.coef_, columns = X.columns)\n",
    "    coeffs_t = coeffs_t.transpose()\n",
    "    coeffs_t.columns = ['Abs_Coefficient']\n",
    "    cos = pd.concat([coeffs, coeffs_t], axis=1)\n",
    "    cos['Abs_Coefficient'] = cos['Abs_Coefficient'].abs()\n",
    "    return cos.sort_values('Abs_Coefficient', ascending=False)"
   ]
  },
  {
   "cell_type": "code",
   "execution_count": 38,
   "metadata": {},
   "outputs": [
    {
     "data": {
      "text/plain": [
       "(39644, 62)"
      ]
     },
     "execution_count": 38,
     "metadata": {},
     "output_type": "execute_result"
    }
   ],
   "source": [
    "news.shape"
   ]
  },
  {
   "cell_type": "code",
   "execution_count": 34,
   "metadata": {
    "collapsed": true
   },
   "outputs": [],
   "source": [
    "from sklearn.linear_model import LogisticRegression\n",
    "from sklearn.model_selection import GridSearchCV\n"
   ]
  },
  {
   "cell_type": "code",
   "execution_count": 37,
   "metadata": {},
   "outputs": [
    {
     "name": "stdout",
     "output_type": "stream",
     "text": [
      "LogisticRegression(C=100.0, class_weight=None, dual=False, fit_intercept=True,\n",
      "          intercept_scaling=1, max_iter=100, multi_class='ovr', n_jobs=1,\n",
      "          penalty='l1', random_state=None, solver='liblinear', tol=0.0001,\n",
      "          verbose=0, warm_start=False)\n",
      "{'penalty': 'l1', 'C': 100.0}\n",
      "0.760972656644\n"
     ]
    }
   ],
   "source": [
    "glr = GridSearchCV(LogisticRegression(), {'C': [0.001, 0.01, 0.1, 1.0, 10.0, 100.0],\n",
    "                                            'penalty': ['l1', 'l2']})\n",
    "glr.fit(X_train75, y_train75)\n",
    "print glr.best_estimator_\n",
    "print glr.best_params_\n",
    "print glr.best_score_"
   ]
  },
  {
   "cell_type": "code",
   "execution_count": 40,
   "metadata": {
    "collapsed": true
   },
   "outputs": [],
   "source": [
    "glr = glr.best_estimator_"
   ]
  },
  {
   "cell_type": "code",
   "execution_count": 41,
   "metadata": {},
   "outputs": [
    {
     "name": "stdout",
     "output_type": "stream",
     "text": [
      "0.754515185148\n",
      "      0    1\n",
      "0  7278  196\n",
      "1  2237  200\n",
      "             precision    recall  f1-score   support\n",
      "\n",
      "          0       0.76      0.97      0.86      7474\n",
      "          1       0.51      0.08      0.14      2437\n",
      "\n",
      "avg / total       0.70      0.75      0.68      9911\n",
      "\n"
     ]
    }
   ],
   "source": [
    "eval_model(glr, X_test75, y_test75)"
   ]
  },
  {
   "cell_type": "code",
   "execution_count": 48,
   "metadata": {},
   "outputs": [
    {
     "data": {
      "text/plain": [
       "array([-1.47816431, -1.99433654, -0.90825052, ..., -0.98932808,\n",
       "       -1.67669293, -0.38259846])"
      ]
     },
     "execution_count": 48,
     "metadata": {},
     "output_type": "execute_result"
    }
   ],
   "source": [
    "glr.decision_function(X_test75)"
   ]
  },
  {
   "cell_type": "code",
   "execution_count": 49,
   "metadata": {},
   "outputs": [
    {
     "data": {
      "text/plain": [
       "array([[ 0.81429515,  0.18570485],\n",
       "       [ 0.88020117,  0.11979883],\n",
       "       [ 0.71264203,  0.28735797],\n",
       "       ..., \n",
       "       [ 0.72895519,  0.27104481],\n",
       "       [ 0.84246612,  0.15753388],\n",
       "       [ 0.59449967,  0.40550033]])"
      ]
     },
     "execution_count": 49,
     "metadata": {},
     "output_type": "execute_result"
    }
   ],
   "source": [
    "glr.predict_proba(X_test75)"
   ]
  },
  {
   "cell_type": "code",
   "execution_count": 377,
   "metadata": {},
   "outputs": [],
   "source": [
    "pipelineBNB2.fit(Xtnv5_train, ytnv5_train)\n",
    "ytnv5_pred = pipelineBNB2.predict_proba(Xtnv5_test)"
   ]
  },
  {
   "cell_type": "code",
   "execution_count": 383,
   "metadata": {},
   "outputs": [],
   "source": [
    "ytnv5_pred_viral = []\n",
    "for i in ytnv5_pred:\n",
    "    ytnv5_pred_viral.append(i[1])\n",
    "\n"
   ]
  },
  {
   "cell_type": "code",
   "execution_count": 398,
   "metadata": {
    "collapsed": true
   },
   "outputs": [],
   "source": [
    "manual_pred_viral = []\n",
    "for i in manual_preds:\n",
    "    manual_pred_viral.append(i[1])"
   ]
  },
  {
   "cell_type": "code",
   "execution_count": null,
   "metadata": {},
   "outputs": [],
   "source": []
  },
  {
   "cell_type": "code",
   "execution_count": 413,
   "metadata": {
    "collapsed": true
   },
   "outputs": [],
   "source": [
    "bnb = BernoulliNB()\n",
    "lr = LogisticRegression()\n",
    "lrnp = LogisticRegression()"
   ]
  },
  {
   "cell_type": "code",
   "execution_count": 587,
   "metadata": {},
   "outputs": [
    {
     "ename": "ValueError",
     "evalue": "Expected input with 26232 features, got 20307 instead",
     "output_type": "error",
     "traceback": [
      "\u001b[0;31m---------------------------------------------------------------------------\u001b[0m",
      "\u001b[0;31mValueError\u001b[0m                                Traceback (most recent call last)",
      "\u001b[0;32m<ipython-input-587-d9682b2bb738>\u001b[0m in \u001b[0;36m<module>\u001b[0;34m()\u001b[0m\n\u001b[0;32m----> 1\u001b[0;31m \u001b[0meval_model\u001b[0m\u001b[0;34m(\u001b[0m\u001b[0mbnb\u001b[0m\u001b[0;34m,\u001b[0m \u001b[0mtest_xcvt\u001b[0m\u001b[0;34m,\u001b[0m \u001b[0mytnv5_test\u001b[0m\u001b[0;34m)\u001b[0m\u001b[0;34m\u001b[0m\u001b[0m\n\u001b[0m",
      "\u001b[0;32m<ipython-input-305-ea5468c0fc22>\u001b[0m in \u001b[0;36meval_model\u001b[0;34m(model, x_test, y_true)\u001b[0m\n\u001b[1;32m     11\u001b[0m \u001b[0;34m\u001b[0m\u001b[0m\n\u001b[1;32m     12\u001b[0m \u001b[0;32mdef\u001b[0m \u001b[0meval_model\u001b[0m\u001b[0;34m(\u001b[0m\u001b[0mmodel\u001b[0m\u001b[0;34m,\u001b[0m \u001b[0mx_test\u001b[0m\u001b[0;34m,\u001b[0m \u001b[0my_true\u001b[0m\u001b[0;34m)\u001b[0m\u001b[0;34m:\u001b[0m\u001b[0;34m\u001b[0m\u001b[0m\n\u001b[0;32m---> 13\u001b[0;31m     \u001b[0my_pred\u001b[0m \u001b[0;34m=\u001b[0m \u001b[0mmodel\u001b[0m\u001b[0;34m.\u001b[0m\u001b[0mpredict\u001b[0m\u001b[0;34m(\u001b[0m\u001b[0mx_test\u001b[0m\u001b[0;34m)\u001b[0m\u001b[0;34m\u001b[0m\u001b[0m\n\u001b[0m\u001b[1;32m     14\u001b[0m     \u001b[0mconmat_1\u001b[0m \u001b[0;34m=\u001b[0m \u001b[0mconfusion_matrix\u001b[0m\u001b[0;34m(\u001b[0m\u001b[0my_true\u001b[0m\u001b[0;34m,\u001b[0m \u001b[0my_pred\u001b[0m\u001b[0;34m,\u001b[0m \u001b[0mlabels\u001b[0m\u001b[0;34m=\u001b[0m\u001b[0mmodel\u001b[0m\u001b[0;34m.\u001b[0m\u001b[0mclasses_\u001b[0m\u001b[0;34m)\u001b[0m\u001b[0;34m\u001b[0m\u001b[0m\n\u001b[1;32m     15\u001b[0m     \u001b[0mconmat_1\u001b[0m \u001b[0;34m=\u001b[0m \u001b[0mpd\u001b[0m\u001b[0;34m.\u001b[0m\u001b[0mDataFrame\u001b[0m\u001b[0;34m(\u001b[0m\u001b[0mconmat_1\u001b[0m\u001b[0;34m,\u001b[0m \u001b[0mcolumns\u001b[0m\u001b[0;34m=\u001b[0m\u001b[0mmodel\u001b[0m\u001b[0;34m.\u001b[0m\u001b[0mclasses_\u001b[0m\u001b[0;34m,\u001b[0m \u001b[0mindex\u001b[0m\u001b[0;34m=\u001b[0m\u001b[0mmodel\u001b[0m\u001b[0;34m.\u001b[0m\u001b[0mclasses_\u001b[0m\u001b[0;34m)\u001b[0m\u001b[0;34m\u001b[0m\u001b[0m\n",
      "\u001b[0;32m//anaconda/lib/python2.7/site-packages/sklearn/naive_bayes.pyc\u001b[0m in \u001b[0;36mpredict\u001b[0;34m(self, X)\u001b[0m\n\u001b[1;32m     63\u001b[0m             \u001b[0mPredicted\u001b[0m \u001b[0mtarget\u001b[0m \u001b[0mvalues\u001b[0m \u001b[0;32mfor\u001b[0m \u001b[0mX\u001b[0m\u001b[0;34m\u001b[0m\u001b[0m\n\u001b[1;32m     64\u001b[0m         \"\"\"\n\u001b[0;32m---> 65\u001b[0;31m         \u001b[0mjll\u001b[0m \u001b[0;34m=\u001b[0m \u001b[0mself\u001b[0m\u001b[0;34m.\u001b[0m\u001b[0m_joint_log_likelihood\u001b[0m\u001b[0;34m(\u001b[0m\u001b[0mX\u001b[0m\u001b[0;34m)\u001b[0m\u001b[0;34m\u001b[0m\u001b[0m\n\u001b[0m\u001b[1;32m     66\u001b[0m         \u001b[0;32mreturn\u001b[0m \u001b[0mself\u001b[0m\u001b[0;34m.\u001b[0m\u001b[0mclasses_\u001b[0m\u001b[0;34m[\u001b[0m\u001b[0mnp\u001b[0m\u001b[0;34m.\u001b[0m\u001b[0margmax\u001b[0m\u001b[0;34m(\u001b[0m\u001b[0mjll\u001b[0m\u001b[0;34m,\u001b[0m \u001b[0maxis\u001b[0m\u001b[0;34m=\u001b[0m\u001b[0;36m1\u001b[0m\u001b[0;34m)\u001b[0m\u001b[0;34m]\u001b[0m\u001b[0;34m\u001b[0m\u001b[0m\n\u001b[1;32m     67\u001b[0m \u001b[0;34m\u001b[0m\u001b[0m\n",
      "\u001b[0;32m//anaconda/lib/python2.7/site-packages/sklearn/naive_bayes.pyc\u001b[0m in \u001b[0;36m_joint_log_likelihood\u001b[0;34m(self, X)\u001b[0m\n\u001b[1;32m    816\u001b[0m         \u001b[0;32mif\u001b[0m \u001b[0mn_features_X\u001b[0m \u001b[0;34m!=\u001b[0m \u001b[0mn_features\u001b[0m\u001b[0;34m:\u001b[0m\u001b[0;34m\u001b[0m\u001b[0m\n\u001b[1;32m    817\u001b[0m             raise ValueError(\"Expected input with %d features, got %d instead\"\n\u001b[0;32m--> 818\u001b[0;31m                              % (n_features, n_features_X))\n\u001b[0m\u001b[1;32m    819\u001b[0m \u001b[0;34m\u001b[0m\u001b[0m\n\u001b[1;32m    820\u001b[0m         \u001b[0mneg_prob\u001b[0m \u001b[0;34m=\u001b[0m \u001b[0mnp\u001b[0m\u001b[0;34m.\u001b[0m\u001b[0mlog\u001b[0m\u001b[0;34m(\u001b[0m\u001b[0;36m1\u001b[0m \u001b[0;34m-\u001b[0m \u001b[0mnp\u001b[0m\u001b[0;34m.\u001b[0m\u001b[0mexp\u001b[0m\u001b[0;34m(\u001b[0m\u001b[0mself\u001b[0m\u001b[0;34m.\u001b[0m\u001b[0mfeature_log_prob_\u001b[0m\u001b[0;34m)\u001b[0m\u001b[0;34m)\u001b[0m\u001b[0;34m\u001b[0m\u001b[0m\n",
      "\u001b[0;31mValueError\u001b[0m: Expected input with 26232 features, got 20307 instead"
     ]
    }
   ],
   "source": [
    "eval_model(bnb, test_xcvt, ytnv5_test)"
   ]
  },
  {
   "cell_type": "code",
   "execution_count": 414,
   "metadata": {},
   "outputs": [
    {
     "data": {
      "text/plain": [
       "LogisticRegression(C=1.0, class_weight=None, dual=False, fit_intercept=True,\n",
       "          intercept_scaling=1, max_iter=100, multi_class='ovr', n_jobs=1,\n",
       "          penalty='l2', random_state=None, solver='liblinear', tol=0.0001,\n",
       "          verbose=0, warm_start=False)"
      ]
     },
     "execution_count": 414,
     "metadata": {},
     "output_type": "execute_result"
    }
   ],
   "source": [
    "bnb.fit(Xcvt, ytnv5_train)\n",
    "lr.fit(Xcvt, ytnv5_train)\n",
    "lr.fit(Xcvt, ytnv5_train)"
   ]
  },
  {
   "cell_type": "code",
   "execution_count": 594,
   "metadata": {},
   "outputs": [],
   "source": [
    "#manual_preds = bnb.predict_proba(test_xcvt)"
   ]
  },
  {
   "cell_type": "code",
   "execution_count": 385,
   "metadata": {},
   "outputs": [
    {
     "data": {
      "image/png": "[encoded data removed]",
      "text/plain": [
       "<matplotlib.figure.Figure at 0x1201dbb10>"
      ]
     },
     "metadata": {},
     "output_type": "display_data"
    }
   ],
   "source": [
    "from sklearn.metrics import roc_curve, auc\n",
    "import matplotlib.pyplot as plt\n",
    "plt.style.use('seaborn-white')\n",
    "%matplotlib inline\n",
    "\n",
    "\n",
    "\n",
    "#Y_score75 = glr.predict_proba(X_test75)\n",
    "\n",
    "FPR = dict()\n",
    "TPR = dict()\n",
    "ROC_AUC = dict()\n",
    "\n",
    "# For class 1, find the area under the curve\n",
    "FPR[1], TPR[1], _ = roc_curve(ytnv5_test, ytnv5_pred_viral)\n",
    "ROC_AUC[1] = auc(FPR[1], TPR[1])\n",
    "\n",
    "# Plot of a ROC curve for class 1 (has_cancer)\n",
    "plt.figure(figsize=[11,9])\n",
    "plt.plot(FPR[1], TPR[1], label='ROC curve (area = %0.2f)' % ROC_AUC[1], linewidth=4)\n",
    "plt.plot([0, 1], [0, 1], 'k--', linewidth=4)\n",
    "plt.xlim([0.0, 1.0])\n",
    "plt.ylim([0.0, 1.05])\n",
    "plt.xlabel('False Positive Rate', fontsize=18)\n",
    "plt.ylabel('True Positive Rate', fontsize=18)\n",
    "plt.title('ROC - Predicting % Retweets Above Median for BNB', fontsize=18)\n",
    "plt.legend(loc=\"lower right\")\n",
    "plt.show()"
   ]
  },
  {
   "cell_type": "code",
   "execution_count": 380,
   "metadata": {},
   "outputs": [
    {
     "data": {
      "text/plain": [
       "array([-1.47816431, -1.99433654, -0.90825052, ..., -0.98932808,\n",
       "       -1.67669293, -0.38259846])"
      ]
     },
     "execution_count": 380,
     "metadata": {},
     "output_type": "execute_result"
    }
   ],
   "source": [
    "Y_score75\n"
   ]
  },
  {
   "cell_type": "code",
   "execution_count": 399,
   "metadata": {},
   "outputs": [
    {
     "data": {
      "image/png": "[encoded data removed]",
      "text/plain": [
       "<matplotlib.figure.Figure at 0x126e44fd0>"
      ]
     },
     "metadata": {},
     "output_type": "display_data"
    }
   ],
   "source": [
    "from sklearn.metrics import roc_curve, auc\n",
    "import matplotlib.pyplot as plt\n",
    "plt.style.use('seaborn-white')\n",
    "%matplotlib inline\n",
    "\n",
    "\n",
    "\n",
    "#Y_score75 = glr.decision_function(X_test75)\n",
    "\n",
    "FPR = dict()\n",
    "TPR = dict()\n",
    "ROC_AUC = dict()\n",
    "\n",
    "# For class 1, find the area under the curve\n",
    "FPR[0], TPR[0], _ = roc_curve(ytnv75_test, manual_pred_viral)\n",
    "ROC_AUC[0] = auc(FPR[0], TPR[0])\n",
    "\n",
    "# Plot of a ROC curve for class 1 (has_cancer)\n",
    "plt.figure(figsize=[11,9])\n",
    "plt.plot(FPR[0], TPR[0], label='ROC curve (area = %0.2f)' % ROC_AUC[0], linewidth=4)\n",
    "plt.plot([0, 1], [0, 1], 'k--', linewidth=4)\n",
    "plt.xlim([0.0, 1.0])\n",
    "plt.ylim([0.0, 1.05])\n",
    "plt.xlabel('False Positive Rate', fontsize=18)\n",
    "plt.ylabel('True Positive Rate', fontsize=18)\n",
    "plt.title('Receiver operating characteristic', fontsize=18)\n",
    "plt.legend(loc=\"lower right\")\n",
    "plt.show()"
   ]
  },
  {
   "cell_type": "code",
   "execution_count": 47,
   "metadata": {},
   "outputs": [
    {
     "data": {
      "text/plain": [
       "{0: array([  0.00000000e+00,   0.00000000e+00,   1.33797164e-04, ...,\n",
       "          9.94915708e-01,   9.94915708e-01,   1.00000000e+00])}"
      ]
     },
     "execution_count": 47,
     "metadata": {},
     "output_type": "execute_result"
    }
   ],
   "source": [
    "FPR"
   ]
  },
  {
   "cell_type": "code",
   "execution_count": 592,
   "metadata": {},
   "outputs": [],
   "source": [
    "#lr_features_df.head(10)"
   ]
  },
  {
   "cell_type": "code",
   "execution_count": 449,
   "metadata": {},
   "outputs": [],
   "source": [
    "stop_ngram_counts_xtt5 = []\n",
    "for header in list(df_lr_xtt5train_tfidf):\n",
    "    value = df_lr_xtt5train_tfidf[header].sum()\n",
    "    stop_ngram_counts_xtt5.append((header,value))\n",
    "    \n",
    "stop_ngram_counts_xtt5.sort(key=lambda x: x[1], reverse = True)"
   ]
  },
  {
   "cell_type": "code",
   "execution_count": 513,
   "metadata": {},
   "outputs": [
    {
     "data": {
      "text/html": [
       "<div>\n",
       "<table border=\"1\" class=\"dataframe\">\n",
       "  <thead>\n",
       "    <tr style=\"text-align: right;\">\n",
       "      <th></th>\n",
       "      <th>Coefficient</th>\n",
       "      <th>Abs_Coefficient</th>\n",
       "    </tr>\n",
       "  </thead>\n",
       "  <tbody>\n",
       "    <tr>\n",
       "      <th>super bowl</th>\n",
       "      <td>-1.620494</td>\n",
       "      <td>1.620494</td>\n",
       "    </tr>\n",
       "    <tr>\n",
       "      <th>president trump</th>\n",
       "      <td>1.468844</td>\n",
       "      <td>1.468844</td>\n",
       "    </tr>\n",
       "    <tr>\n",
       "      <th>betsy devos</th>\n",
       "      <td>1.071761</td>\n",
       "      <td>1.071761</td>\n",
       "    </tr>\n",
       "    <tr>\n",
       "      <th>white house</th>\n",
       "      <td>1.045665</td>\n",
       "      <td>1.045665</td>\n",
       "    </tr>\n",
       "    <tr>\n",
       "      <th>elizabeth warren</th>\n",
       "      <td>1.038466</td>\n",
       "      <td>1.038466</td>\n",
       "    </tr>\n",
       "    <tr>\n",
       "      <th>sean spicer</th>\n",
       "      <td>1.024790</td>\n",
       "      <td>1.024790</td>\n",
       "    </tr>\n",
       "    <tr>\n",
       "      <th>trump travel</th>\n",
       "      <td>0.977986</td>\n",
       "      <td>0.977986</td>\n",
       "    </tr>\n",
       "    <tr>\n",
       "      <th>kellyanne conway</th>\n",
       "      <td>0.956182</td>\n",
       "      <td>0.956182</td>\n",
       "    </tr>\n",
       "    <tr>\n",
       "      <th>trump travel ban</th>\n",
       "      <td>0.928986</td>\n",
       "      <td>0.928986</td>\n",
       "    </tr>\n",
       "    <tr>\n",
       "      <th>need know</th>\n",
       "      <td>-0.924660</td>\n",
       "      <td>0.924660</td>\n",
       "    </tr>\n",
       "    <tr>\n",
       "      <th>travel ban</th>\n",
       "      <td>0.847906</td>\n",
       "      <td>0.847906</td>\n",
       "    </tr>\n",
       "    <tr>\n",
       "      <th>briefing need know</th>\n",
       "      <td>-0.813122</td>\n",
       "      <td>0.813122</td>\n",
       "    </tr>\n",
       "    <tr>\n",
       "      <th>briefing need</th>\n",
       "      <td>-0.813122</td>\n",
       "      <td>0.813122</td>\n",
       "    </tr>\n",
       "    <tr>\n",
       "      <th>lady gaga</th>\n",
       "      <td>0.684798</td>\n",
       "      <td>0.684798</td>\n",
       "    </tr>\n",
       "    <tr>\n",
       "      <th>trump order</th>\n",
       "      <td>0.674308</td>\n",
       "      <td>0.674308</td>\n",
       "    </tr>\n",
       "    <tr>\n",
       "      <th>trump executive</th>\n",
       "      <td>0.633058</td>\n",
       "      <td>0.633058</td>\n",
       "    </tr>\n",
       "    <tr>\n",
       "      <th>trump immigration</th>\n",
       "      <td>0.613060</td>\n",
       "      <td>0.613060</td>\n",
       "    </tr>\n",
       "    <tr>\n",
       "      <th>melissa mccarthy</th>\n",
       "      <td>0.600008</td>\n",
       "      <td>0.600008</td>\n",
       "    </tr>\n",
       "    <tr>\n",
       "      <th>trump refugee ban</th>\n",
       "      <td>0.597087</td>\n",
       "      <td>0.597087</td>\n",
       "    </tr>\n",
       "    <tr>\n",
       "      <th>refugee ban</th>\n",
       "      <td>0.597087</td>\n",
       "      <td>0.597087</td>\n",
       "    </tr>\n",
       "    <tr>\n",
       "      <th>bowling green massacre</th>\n",
       "      <td>0.558189</td>\n",
       "      <td>0.558189</td>\n",
       "    </tr>\n",
       "    <tr>\n",
       "      <th>green massacre</th>\n",
       "      <td>0.558189</td>\n",
       "      <td>0.558189</td>\n",
       "    </tr>\n",
       "    <tr>\n",
       "      <th>ivanka trump</th>\n",
       "      <td>0.554417</td>\n",
       "      <td>0.554417</td>\n",
       "    </tr>\n",
       "    <tr>\n",
       "      <th>executive order</th>\n",
       "      <td>0.551418</td>\n",
       "      <td>0.551418</td>\n",
       "    </tr>\n",
       "    <tr>\n",
       "      <th>roof superbowl</th>\n",
       "      <td>0.542225</td>\n",
       "      <td>0.542225</td>\n",
       "    </tr>\n",
       "    <tr>\n",
       "      <th>trump refugee</th>\n",
       "      <td>0.532037</td>\n",
       "      <td>0.532037</td>\n",
       "    </tr>\n",
       "    <tr>\n",
       "      <th>trump executive order</th>\n",
       "      <td>0.514796</td>\n",
       "      <td>0.514796</td>\n",
       "    </tr>\n",
       "    <tr>\n",
       "      <th>donald trump</th>\n",
       "      <td>0.513967</td>\n",
       "      <td>0.513967</td>\n",
       "    </tr>\n",
       "    <tr>\n",
       "      <th>bowling green</th>\n",
       "      <td>0.513868</td>\n",
       "      <td>0.513868</td>\n",
       "    </tr>\n",
       "    <tr>\n",
       "      <th>morning briefing</th>\n",
       "      <td>-0.511080</td>\n",
       "      <td>0.511080</td>\n",
       "    </tr>\n",
       "    <tr>\n",
       "      <th>...</th>\n",
       "      <td>...</td>\n",
       "      <td>...</td>\n",
       "    </tr>\n",
       "    <tr>\n",
       "      <th>trump advisers</th>\n",
       "      <td>-0.000241</td>\n",
       "      <td>0.000241</td>\n",
       "    </tr>\n",
       "    <tr>\n",
       "      <th>muslim brotherhood terrorist organization</th>\n",
       "      <td>-0.000241</td>\n",
       "      <td>0.000241</td>\n",
       "    </tr>\n",
       "    <tr>\n",
       "      <th>advisers debating order intended</th>\n",
       "      <td>-0.000241</td>\n",
       "      <td>0.000241</td>\n",
       "    </tr>\n",
       "    <tr>\n",
       "      <th>debating order intended designate</th>\n",
       "      <td>-0.000241</td>\n",
       "      <td>0.000241</td>\n",
       "    </tr>\n",
       "    <tr>\n",
       "      <th>terrorist organization</th>\n",
       "      <td>-0.000241</td>\n",
       "      <td>0.000241</td>\n",
       "    </tr>\n",
       "    <tr>\n",
       "      <th>designate muslim brotherhood terrorist</th>\n",
       "      <td>-0.000241</td>\n",
       "      <td>0.000241</td>\n",
       "    </tr>\n",
       "    <tr>\n",
       "      <th>designate muslim brotherhood</th>\n",
       "      <td>-0.000241</td>\n",
       "      <td>0.000241</td>\n",
       "    </tr>\n",
       "    <tr>\n",
       "      <th>designate muslim</th>\n",
       "      <td>-0.000241</td>\n",
       "      <td>0.000241</td>\n",
       "    </tr>\n",
       "    <tr>\n",
       "      <th>order intended designate muslim</th>\n",
       "      <td>-0.000241</td>\n",
       "      <td>0.000241</td>\n",
       "    </tr>\n",
       "    <tr>\n",
       "      <th>order intended designate</th>\n",
       "      <td>-0.000241</td>\n",
       "      <td>0.000241</td>\n",
       "    </tr>\n",
       "    <tr>\n",
       "      <th>debating order intended</th>\n",
       "      <td>-0.000241</td>\n",
       "      <td>0.000241</td>\n",
       "    </tr>\n",
       "    <tr>\n",
       "      <th>debating order</th>\n",
       "      <td>-0.000241</td>\n",
       "      <td>0.000241</td>\n",
       "    </tr>\n",
       "    <tr>\n",
       "      <th>order intended</th>\n",
       "      <td>-0.000241</td>\n",
       "      <td>0.000241</td>\n",
       "    </tr>\n",
       "    <tr>\n",
       "      <th>chicken playing america beautiful</th>\n",
       "      <td>-0.000161</td>\n",
       "      <td>0.000161</td>\n",
       "    </tr>\n",
       "    <tr>\n",
       "      <th>keyboard new national bird</th>\n",
       "      <td>-0.000161</td>\n",
       "      <td>0.000161</td>\n",
       "    </tr>\n",
       "    <tr>\n",
       "      <th>beautiful keyboard new national</th>\n",
       "      <td>-0.000161</td>\n",
       "      <td>0.000161</td>\n",
       "    </tr>\n",
       "    <tr>\n",
       "      <th>beautiful keyboard new</th>\n",
       "      <td>-0.000161</td>\n",
       "      <td>0.000161</td>\n",
       "    </tr>\n",
       "    <tr>\n",
       "      <th>beautiful keyboard</th>\n",
       "      <td>-0.000161</td>\n",
       "      <td>0.000161</td>\n",
       "    </tr>\n",
       "    <tr>\n",
       "      <th>keyboard new national</th>\n",
       "      <td>-0.000161</td>\n",
       "      <td>0.000161</td>\n",
       "    </tr>\n",
       "    <tr>\n",
       "      <th>america beautiful keyboard new</th>\n",
       "      <td>-0.000161</td>\n",
       "      <td>0.000161</td>\n",
       "    </tr>\n",
       "    <tr>\n",
       "      <th>national bird</th>\n",
       "      <td>-0.000161</td>\n",
       "      <td>0.000161</td>\n",
       "    </tr>\n",
       "    <tr>\n",
       "      <th>america beautiful keyboard</th>\n",
       "      <td>-0.000161</td>\n",
       "      <td>0.000161</td>\n",
       "    </tr>\n",
       "    <tr>\n",
       "      <th>playing america</th>\n",
       "      <td>-0.000161</td>\n",
       "      <td>0.000161</td>\n",
       "    </tr>\n",
       "    <tr>\n",
       "      <th>playing america beautiful</th>\n",
       "      <td>-0.000161</td>\n",
       "      <td>0.000161</td>\n",
       "    </tr>\n",
       "    <tr>\n",
       "      <th>playing america beautiful keyboard</th>\n",
       "      <td>-0.000161</td>\n",
       "      <td>0.000161</td>\n",
       "    </tr>\n",
       "    <tr>\n",
       "      <th>new national bird</th>\n",
       "      <td>-0.000161</td>\n",
       "      <td>0.000161</td>\n",
       "    </tr>\n",
       "    <tr>\n",
       "      <th>new national</th>\n",
       "      <td>-0.000161</td>\n",
       "      <td>0.000161</td>\n",
       "    </tr>\n",
       "    <tr>\n",
       "      <th>chicken playing</th>\n",
       "      <td>-0.000161</td>\n",
       "      <td>0.000161</td>\n",
       "    </tr>\n",
       "    <tr>\n",
       "      <th>chicken playing america</th>\n",
       "      <td>-0.000161</td>\n",
       "      <td>0.000161</td>\n",
       "    </tr>\n",
       "    <tr>\n",
       "      <th>keyboard new</th>\n",
       "      <td>-0.000161</td>\n",
       "      <td>0.000161</td>\n",
       "    </tr>\n",
       "  </tbody>\n",
       "</table>\n",
       "<p>53518 rows × 2 columns</p>\n",
       "</div>"
      ],
      "text/plain": [
       "                                          Coefficient  Abs_Coefficient\n",
       "super bowl                                  -1.620494         1.620494\n",
       "president trump                              1.468844         1.468844\n",
       "betsy devos                                  1.071761         1.071761\n",
       "white house                                  1.045665         1.045665\n",
       "elizabeth warren                             1.038466         1.038466\n",
       "sean spicer                                  1.024790         1.024790\n",
       "trump travel                                 0.977986         0.977986\n",
       "kellyanne conway                             0.956182         0.956182\n",
       "trump travel ban                             0.928986         0.928986\n",
       "need know                                   -0.924660         0.924660\n",
       "travel ban                                   0.847906         0.847906\n",
       "briefing need know                          -0.813122         0.813122\n",
       "briefing need                               -0.813122         0.813122\n",
       "lady gaga                                    0.684798         0.684798\n",
       "trump order                                  0.674308         0.674308\n",
       "trump executive                              0.633058         0.633058\n",
       "trump immigration                            0.613060         0.613060\n",
       "melissa mccarthy                             0.600008         0.600008\n",
       "trump refugee ban                            0.597087         0.597087\n",
       "refugee ban                                  0.597087         0.597087\n",
       "bowling green massacre                       0.558189         0.558189\n",
       "green massacre                               0.558189         0.558189\n",
       "ivanka trump                                 0.554417         0.554417\n",
       "executive order                              0.551418         0.551418\n",
       "roof superbowl                               0.542225         0.542225\n",
       "trump refugee                                0.532037         0.532037\n",
       "trump executive order                        0.514796         0.514796\n",
       "donald trump                                 0.513967         0.513967\n",
       "bowling green                                0.513868         0.513868\n",
       "morning briefing                            -0.511080         0.511080\n",
       "...                                               ...              ...\n",
       "trump advisers                              -0.000241         0.000241\n",
       "muslim brotherhood terrorist organiza...    -0.000241         0.000241\n",
       "advisers debating order intended            -0.000241         0.000241\n",
       "debating order intended designate           -0.000241         0.000241\n",
       "terrorist organization                      -0.000241         0.000241\n",
       "designate muslim brotherhood terrorist      -0.000241         0.000241\n",
       "designate muslim brotherhood                -0.000241         0.000241\n",
       "designate muslim                            -0.000241         0.000241\n",
       "order intended designate muslim             -0.000241         0.000241\n",
       "order intended designate                    -0.000241         0.000241\n",
       "debating order intended                     -0.000241         0.000241\n",
       "debating order                              -0.000241         0.000241\n",
       "order intended                              -0.000241         0.000241\n",
       "chicken playing america beautiful           -0.000161         0.000161\n",
       "keyboard new national bird                  -0.000161         0.000161\n",
       "beautiful keyboard new national             -0.000161         0.000161\n",
       "beautiful keyboard new                      -0.000161         0.000161\n",
       "beautiful keyboard                          -0.000161         0.000161\n",
       "keyboard new national                       -0.000161         0.000161\n",
       "america beautiful keyboard new              -0.000161         0.000161\n",
       "national bird                               -0.000161         0.000161\n",
       "america beautiful keyboard                  -0.000161         0.000161\n",
       "playing america                             -0.000161         0.000161\n",
       "playing america beautiful                   -0.000161         0.000161\n",
       "playing america beautiful keyboard          -0.000161         0.000161\n",
       "new national bird                           -0.000161         0.000161\n",
       "new national                                -0.000161         0.000161\n",
       "chicken playing                             -0.000161         0.000161\n",
       "chicken playing america                     -0.000161         0.000161\n",
       "keyboard new                                -0.000161         0.000161\n",
       "\n",
       "[53518 rows x 2 columns]"
      ]
     },
     "execution_count": 513,
     "metadata": {},
     "output_type": "execute_result"
    }
   ],
   "source": [
    "#looking at coefficients \n",
    "log_get_co(lr_xtt5, df_lr_xtt5train_tfidf)"
   ]
  },
  {
   "cell_type": "code",
   "execution_count": 467,
   "metadata": {},
   "outputs": [],
   "source": [
    "lrtt_features_df = log_get_co(lr_xtt5, df_lr_xtt5train_tfidf)\n",
    "lrtt_topfeatures_df = lrtt_features_df[lrtt_features_df.Abs_Coefficient >=.6]\n"
   ]
  },
  {
   "cell_type": "code",
   "execution_count": 502,
   "metadata": {},
   "outputs": [],
   "source": [
    "#log_get_co(lr_xtv75, df_lr75)"
   ]
  },
  {
   "cell_type": "code",
   "execution_count": null,
   "metadata": {
    "collapsed": true
   },
   "outputs": [],
   "source": []
  },
  {
   "cell_type": "code",
   "execution_count": 503,
   "metadata": {
    "collapsed": true
   },
   "outputs": [],
   "source": [
    "lr_xtv75_features = log_get_co(lr_xtv75, df_lr75)\n",
    "lr_xtv75_topfeatures = lr_xtv75_features[lr_xtv75_features.Abs_Coefficient >=.9]"
   ]
  },
  {
   "cell_type": "code",
   "execution_count": 504,
   "metadata": {
    "collapsed": true
   },
   "outputs": [],
   "source": [
    "lr_xtv75_topfeatures.to_csv('/Users/davidbeightol/Documents/DSI/data_sets/lrtt75_topfeatures.csv')"
   ]
  },
  {
   "cell_type": "code",
   "execution_count": 468,
   "metadata": {
    "collapsed": true
   },
   "outputs": [],
   "source": [
    "lrtt_topfeatures_df.to_csv('/Users/davidbeightol/Documents/DSI/data_sets/lrtt_topfeatures.csv')"
   ]
  },
  {
   "cell_type": "code",
   "execution_count": 438,
   "metadata": {},
   "outputs": [],
   "source": [
    "lr_topfeatures_df = lr_features_df[lr_features_df.Abs_Coefficient >=.75]"
   ]
  },
  {
   "cell_type": "code",
   "execution_count": 417,
   "metadata": {},
   "outputs": [],
   "source": [
    "log_get_co(glr, X_train75)"
   ]
  },
  {
   "cell_type": "code",
   "execution_count": 15,
   "metadata": {},
   "outputs": [],
   "source": [
    "lr = LogisticRegression(penalty='l2')"
   ]
  },
  {
   "cell_type": "code",
   "execution_count": 16,
   "metadata": {},
   "outputs": [],
   "source": [
    "#lr.feature_importances_"
   ]
  },
  {
   "cell_type": "code",
   "execution_count": 17,
   "metadata": {
    "collapsed": true
   },
   "outputs": [],
   "source": [
    "\n",
    "import matplotlib\n",
    "import numpy as np\n",
    "import matplotlib.pyplot as plt\n",
    "%matplotlib inline\n",
    "\n",
    "from sklearn import linear_model, decomposition, datasets\n",
    "from sklearn.pipeline import Pipeline\n",
    "from sklearn.model_selection import GridSearchCV\n",
    "\n",
    "logistic = linear_model.LogisticRegression()\n",
    "\n",
    "pca = decomposition.PCA()\n",
    "pipe = Pipeline(steps=[('pca', pca), ('logistic', logistic)])\n",
    "\n",
    "X_digits = X_train\n",
    "y_digits = y_train"
   ]
  },
  {
   "cell_type": "code",
   "execution_count": 10,
   "metadata": {
    "collapsed": true
   },
   "outputs": [],
   "source": [
    "rfc = RandomForestClassifier(criterion = 'entropy')"
   ]
  },
  {
   "cell_type": "code",
   "execution_count": 27,
   "metadata": {},
   "outputs": [],
   "source": [
    "#rfc.feature_importances_"
   ]
  },
  {
   "cell_type": "code",
   "execution_count": 28,
   "metadata": {
    "collapsed": true
   },
   "outputs": [],
   "source": [
    "from sklearn.feature_selection import SelectFromModel"
   ]
  },
  {
   "cell_type": "code",
   "execution_count": 29,
   "metadata": {
    "collapsed": true
   },
   "outputs": [],
   "source": [
    "rfc_reduced = SelectFromModel(rfc, prefit=True)"
   ]
  },
  {
   "cell_type": "code",
   "execution_count": 32,
   "metadata": {},
   "outputs": [],
   "source": [
    "X_train_new = rfc_reduced.transform(X_train)"
   ]
  },
  {
   "cell_type": "code",
   "execution_count": 33,
   "metadata": {
    "collapsed": true
   },
   "outputs": [],
   "source": [
    "X_test_new = rfc_reduced.transform(X_test)"
   ]
  },
  {
   "cell_type": "code",
   "execution_count": 30,
   "metadata": {},
   "outputs": [
    {
     "name": "stdout",
     "output_type": "stream",
     "text": [
      "0.747149631722\n",
      "      0    1\n",
      "0  7081  393\n",
      "1  2113  324\n",
      "             precision    recall  f1-score   support\n",
      "\n",
      "          0       0.77      0.95      0.85      7474\n",
      "          1       0.45      0.13      0.21      2437\n",
      "\n",
      "avg / total       0.69      0.75      0.69      9911\n",
      "\n"
     ]
    }
   ],
   "source": [
    "run_model(rfc, X_train75, X_test75, y_train75, y_test75)"
   ]
  },
  {
   "cell_type": "code",
   "execution_count": 16,
   "metadata": {
    "collapsed": true
   },
   "outputs": [],
   "source": [
    "def tree_get_co(model, X):\n",
    "    cos = pd.DataFrame(model.feature_importances_, index = X.columns, columns = ['Coefficient'])\n",
    "    return cos.sort_values('Coefficient', ascending=False)\n"
   ]
  },
  {
   "cell_type": "code",
   "execution_count": 333,
   "metadata": {},
   "outputs": [
    {
     "data": {
      "text/html": [
       "<div>\n",
       "<table border=\"1\" class=\"dataframe\">\n",
       "  <thead>\n",
       "    <tr style=\"text-align: right;\">\n",
       "      <th></th>\n",
       "      <th>Coefficient</th>\n",
       "    </tr>\n",
       "  </thead>\n",
       "  <tbody>\n",
       "    <tr>\n",
       "      <th>hour</th>\n",
       "      <td>0.332492</td>\n",
       "    </tr>\n",
       "    <tr>\n",
       "      <th>subjectivity</th>\n",
       "      <td>0.293869</td>\n",
       "    </tr>\n",
       "    <tr>\n",
       "      <th>polarity</th>\n",
       "      <td>0.288094</td>\n",
       "    </tr>\n",
       "    <tr>\n",
       "      <th>Sun</th>\n",
       "      <td>0.021225</td>\n",
       "    </tr>\n",
       "    <tr>\n",
       "      <th>Mon</th>\n",
       "      <td>0.017355</td>\n",
       "    </tr>\n",
       "    <tr>\n",
       "      <th>Thu</th>\n",
       "      <td>0.014343</td>\n",
       "    </tr>\n",
       "    <tr>\n",
       "      <th>Sat</th>\n",
       "      <td>0.012105</td>\n",
       "    </tr>\n",
       "    <tr>\n",
       "      <th>Wed</th>\n",
       "      <td>0.010440</td>\n",
       "    </tr>\n",
       "    <tr>\n",
       "      <th>Tue</th>\n",
       "      <td>0.010078</td>\n",
       "    </tr>\n",
       "  </tbody>\n",
       "</table>\n",
       "</div>"
      ],
      "text/plain": [
       "              Coefficient\n",
       "hour             0.332492\n",
       "subjectivity     0.293869\n",
       "polarity         0.288094\n",
       "Sun              0.021225\n",
       "Mon              0.017355\n",
       "Thu              0.014343\n",
       "Sat              0.012105\n",
       "Wed              0.010440\n",
       "Tue              0.010078"
      ]
     },
     "execution_count": 333,
     "metadata": {},
     "output_type": "execute_result"
    }
   ],
   "source": [
    "tree_get_co(t5rfc, Xt5)"
   ]
  },
  {
   "cell_type": "code",
   "execution_count": null,
   "metadata": {
    "collapsed": true
   },
   "outputs": [],
   "source": [
    "#news.to_csv('../../../../mashable.csv', index=False)"
   ]
  }
 ],
 "metadata": {
  "anaconda-cloud": {},
  "kernelspec": {
   "display_name": "Python 3",
   "language": "python",
   "name": "python3"
  },
  "language_info": {
   "codemirror_mode": {
    "name": "ipython",
    "version": 3
   },
   "file_extension": ".py",
   "mimetype": "text/x-python",
   "name": "python",
   "nbconvert_exporter": "python",
   "pygments_lexer": "ipython3",
   "version": "3.6.2"
  }
 },
 "nbformat": 4,
 "nbformat_minor": 1
}
